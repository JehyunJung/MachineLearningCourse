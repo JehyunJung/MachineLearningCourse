{
 "cells": [
  {
   "cell_type": "markdown",
   "metadata": {},
   "source": [
    "# Perceptron 구현 (OR 함수 구현)"
   ]
  },
  {
   "cell_type": "markdown",
   "metadata": {},
   "source": [
    "## Import modules"
   ]
  },
  {
   "cell_type": "code",
   "execution_count": 1,
   "metadata": {},
   "outputs": [],
   "source": [
    "import tensorflow as tf\n",
    "import numpy as np"
   ]
  },
  {
   "cell_type": "markdown",
   "metadata": {},
   "source": [
    "## Perceptron 구현"
   ]
  },
  {
   "cell_type": "code",
   "execution_count": 5,
   "metadata": {},
   "outputs": [],
   "source": [
    "#tensorflow2.0 에서 제안하는 방식\n",
    "class Perceptron:\n",
    "    def __init__(self,w,b): #weight, bias 에 대해서 tensorflow variable으로 바꿔주는 작업을 진행해준다. -> initialization\n",
    "        self.w=tf.Variable(w,dtype=tf.float32)\n",
    "        self.b=tf.Variable(b,dtype=tf.float32)\n",
    "        \n",
    "    def __call__(self,x):  #perceptron을 통과했을 때 출력되는 값을 설정\n",
    "        return tf.sign(tf.reduce_sum(self.w * x) + self.b) #weight summation + bias -> activate function에 넣은 결과를 출력한다."
   ]
  },
  {
   "cell_type": "markdown",
   "metadata": {},
   "source": [
    "## Utility 함수 구현"
   ]
  },
  {
   "cell_type": "code",
   "execution_count": 6,
   "metadata": {},
   "outputs": [],
   "source": [
    "#*args로 설정하게 되면, variable parameter을 입력받을 수 있다 -> 고정된 크기의 인자가 아닌, 동적 개념의 인자 전송\n",
    "def v(*args):\n",
    "    return np.array(args)"
   ]
  },
  {
   "cell_type": "markdown",
   "metadata": {},
   "source": [
    "## Perceptron 정의"
   ]
  },
  {
   "cell_type": "code",
   "execution_count": 7,
   "metadata": {},
   "outputs": [],
   "source": [
    "w= v(1,1)\n",
    "b= 0.5\n",
    "\n",
    "perceptron = Perceptron(w,b)"
   ]
  },
  {
   "cell_type": "markdown",
   "metadata": {},
   "source": [
    "## Perceptron 동작 확인"
   ]
  },
  {
   "cell_type": "code",
   "execution_count": 8,
   "metadata": {},
   "outputs": [
    {
     "name": "stdout",
     "output_type": "stream",
     "text": [
      "1.0 1.0\n",
      "-1.0 1.0\n"
     ]
    }
   ],
   "source": [
    "p1=perceptron(v(1,1)) #제1사분면    # T T\n",
    "p2=perceptron(v(-1,1)) #제2사분면   # F T\n",
    "p3=perceptron(v(-1,-1)) #제3사분면  # F F\n",
    "p4=perceptron(v(1,-1)) #제4사분면   # T F\n",
    "\n",
    "print(p2.numpy(),p1.numpy())\n",
    "print(p3.numpy(),p4.numpy())"
   ]
  }
 ],
 "metadata": {
  "kernelspec": {
   "display_name": "Python 3",
   "language": "python",
   "name": "python3"
  },
  "language_info": {
   "codemirror_mode": {
    "name": "ipython",
    "version": 3
   },
   "file_extension": ".py",
   "mimetype": "text/x-python",
   "name": "python",
   "nbconvert_exporter": "python",
   "pygments_lexer": "ipython3",
   "version": "3.7.7"
  }
 },
 "nbformat": 4,
 "nbformat_minor": 2
}
