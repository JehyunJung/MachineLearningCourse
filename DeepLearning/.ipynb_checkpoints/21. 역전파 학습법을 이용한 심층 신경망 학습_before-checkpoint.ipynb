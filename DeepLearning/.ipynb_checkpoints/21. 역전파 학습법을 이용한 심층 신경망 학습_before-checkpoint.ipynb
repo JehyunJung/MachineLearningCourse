{
 "cells": [
  {
   "cell_type": "markdown",
   "metadata": {},
   "source": [
    "## 역전파 학습법을 이용한 심층 신경망 학습"
   ]
  },
  {
   "cell_type": "markdown",
   "metadata": {},
   "source": [
    "## Import modules"
   ]
  },
  {
   "cell_type": "code",
   "execution_count": 5,
   "metadata": {},
   "outputs": [],
   "source": [
    "import time\n",
    "import numpy as np"
   ]
  },
  {
   "cell_type": "markdown",
   "metadata": {},
   "source": [
    "## 유틸리티 함수"
   ]
  },
  {
   "cell_type": "code",
   "execution_count": 6,
   "metadata": {},
   "outputs": [],
   "source": [
    "def _t(x):\n",
    "    return np.transpose(x)\n",
    "\n",
    "def _m(A, B):\n",
    "    return np.matmul(A, B)"
   ]
  },
  {
   "cell_type": "markdown",
   "metadata": {},
   "source": [
    "## Sigmoid 구현"
   ]
  },
  {
   "cell_type": "code",
   "execution_count": 7,
   "metadata": {},
   "outputs": [],
   "source": [
    "class Sigmoid:\n",
    "    def __init__(self):\n",
    "        self.last_o=1\n",
    "        \n",
    "    def __call__(self, x):\n",
    "        self.last_o=1.0 / (1.0 +np.exp(-x))\n",
    "        return self.last_o\n",
    "\n",
    "    def grad(self): #마지막 출력을 저장함으로써 backpropagation 시간을 줄인다.\n",
    "        return self.last_o*(1-self.last_o)"
   ]
  },
  {
   "cell_type": "markdown",
   "metadata": {},
   "source": [
    "## Mean Squared Error 구현"
   ]
  },
  {
   "cell_type": "code",
   "execution_count": 8,
   "metadata": {},
   "outputs": [],
   "source": [
    "class MeanSquaredError: # 1/2 * mean((h-y)^2) --> h-y\n",
    "    def __init__(self):\n",
    "        self.dh=1\n",
    "        self.last_diff=1\n",
    "        \n",
    "    def __call__(self, h, y):\n",
    "        self.last_diff=h-y\n",
    "        return 1/2 * np.mean(np.square(self.last_diff))\n",
    "\n",
    "    def grad(self):\n",
    "        return self.last_diff"
   ]
  },
  {
   "cell_type": "markdown",
   "metadata": {},
   "source": [
    "## Dense Layer 구현"
   ]
  },
  {
   "cell_type": "code",
   "execution_count": 13,
   "metadata": {},
   "outputs": [],
   "source": [
    "class Dense:\n",
    "    def __init__(self, W, b, a_obj):\n",
    "        self.W=W\n",
    "        self.b=b\n",
    "        self.a=a_obj() #tsigmoid의 마지막 미분 결과가 저장 되어 있어야 하므로 이를 class 형태로 parameter을 받도록 한다.\n",
    "        \n",
    "        self.dW=np.zeros_like(self.W)\n",
    "        self.db=np.zeros_like(self.b)\n",
    "        self.dh=np.zeros_like(_t(self.W))\n",
    "        self.last_x=np.zeros_like((self.W.shape[0],))\n",
    "        self.last_h=np.zeros_like((self.W.shape[1],))\n",
    "        \n",
    "\n",
    "    def __call__(self, x):\n",
    "        self.last_x=x\n",
    "        self.last_h=_m(_t(self.W),x)+self.b\n",
    "        return self.last_h\n",
    "\n",
    "    def grad(self):\n",
    "        return self.W * self.a.grad()\n",
    "\n",
    "    def grad_W(self, dh):\n",
    "        grad=np.ones_like(self.W)\n",
    "        grad_a=self.a.grad()\n",
    "        \n",
    "        for j in range(grad.shape[1]):\n",
    "            grad[:,j]=dh[j]*grad_a*self.last_x\n",
    "        return grad\n",
    "    \n",
    "    def grad_b(self, dh):\n",
    "        return dh*self.a.grad()"
   ]
  },
  {
   "cell_type": "markdown",
   "metadata": {},
   "source": [
    "## 심층신경망 구현"
   ]
  },
  {
   "cell_type": "code",
   "execution_count": 17,
   "metadata": {},
   "outputs": [],
   "source": [
    "class DNN:\n",
    "    def __init__(self, hidden_depth, num_neuron, input, output, activation=Sigmoid):\n",
    "        def init_var(i, o):\n",
    "            return np.random.normal(0.0, 0.01, (i, o)), np.zeros((o,))\n",
    "\n",
    "        self.sequence = list()\n",
    "        # First hidden layer\n",
    "        W, b = init_var(input, num_neuron)\n",
    "        self.sequence.append(Dense(W, b, activation))\n",
    "\n",
    "        # Hidden Layers\n",
    "        for index in range(hidden_depth):\n",
    "            W, b = init_var(num_neuron, num_neuron)\n",
    "            self.sequence.append(Dense(W, b, activation))\n",
    "\n",
    "        # Output Layer\n",
    "        W, b = init_var(num_neuron, output)\n",
    "        self.sequence.append(Dense(W, b, activation))\n",
    "\n",
    "    def __call__(self, x):\n",
    "        for layer in self.sequence:\n",
    "            x = layer(x)\n",
    "        return x\n",
    "\n",
    "    def calc_gradient(self, loss_obj):\n",
    "        loss_obj.dh=loss_obj.grad() #마지막 loss function의 gradient\n",
    "        self.sequence.append(loss_obj)\n",
    "        \n",
    "        # back propagation loop\n",
    "        for i in range(len(self.sequence)-1, 0 ,-1):\n",
    "            l1=self.sequence[i]\n",
    "            l0=self.sequence[i-1]\n",
    "            \n",
    "            l0.dh=_m(l0.grad(),l1.dh)\n",
    "            l0.dw=l0.grad_W(l1.dh)\n",
    "            l0.db=l0.grad_b(l1.dh)\n",
    "        \n",
    "        self.sequence.remove(loss_obj)"
   ]
  },
  {
   "cell_type": "markdown",
   "metadata": {},
   "source": [
    "## 경사하강 학습법"
   ]
  },
  {
   "cell_type": "code",
   "execution_count": 18,
   "metadata": {},
   "outputs": [],
   "source": [
    "def gradient_descent(network, x, y, loss_obj, alpha=0.01):\n",
    "    loss = loss_obj(network(x), y)  # Forward inference\n",
    "    network.calc_gradient(loss_obj)  # Back-propagation\n",
    "    for layer in network.sequence:\n",
    "        layer.W += -alpha * layer.dW\n",
    "        layer.b += -alpha * layer.db\n",
    "    return loss"
   ]
  },
  {
   "cell_type": "markdown",
   "metadata": {},
   "source": [
    "## 동작 테스트"
   ]
  },
  {
   "cell_type": "code",
   "execution_count": 22,
   "metadata": {
    "scrolled": true
   },
   "outputs": [
    {
     "name": "stdout",
     "output_type": "stream",
     "text": [
      "Epoch 0: Test loss 0.7531458384393458\n",
      "Epoch 1: Test loss 0.7531458384393458\n",
      "Epoch 2: Test loss 0.7531458384393458\n",
      "Epoch 3: Test loss 0.7531458384393458\n",
      "Epoch 4: Test loss 0.7531458384393458\n",
      "Epoch 5: Test loss 0.7531458384393458\n",
      "Epoch 6: Test loss 0.7531458384393458\n",
      "Epoch 7: Test loss 0.7531458384393458\n",
      "Epoch 8: Test loss 0.7531458384393458\n",
      "Epoch 9: Test loss 0.7531458384393458\n",
      "Epoch 10: Test loss 0.7531458384393458\n",
      "Epoch 11: Test loss 0.7531458384393458\n",
      "Epoch 12: Test loss 0.7531458384393458\n",
      "Epoch 13: Test loss 0.7531458384393458\n",
      "Epoch 14: Test loss 0.7531458384393458\n",
      "Epoch 15: Test loss 0.7531458384393458\n",
      "Epoch 16: Test loss 0.7531458384393458\n",
      "Epoch 17: Test loss 0.7531458384393458\n",
      "Epoch 18: Test loss 0.7531458384393458\n",
      "Epoch 19: Test loss 0.7531458384393458\n",
      "Epoch 20: Test loss 0.7531458384393458\n",
      "Epoch 21: Test loss 0.7531458384393458\n",
      "Epoch 22: Test loss 0.7531458384393458\n",
      "Epoch 23: Test loss 0.7531458384393458\n",
      "Epoch 24: Test loss 0.7531458384393458\n",
      "Epoch 25: Test loss 0.7531458384393458\n",
      "Epoch 26: Test loss 0.7531458384393458\n",
      "Epoch 27: Test loss 0.7531458384393458\n",
      "Epoch 28: Test loss 0.7531458384393458\n",
      "Epoch 29: Test loss 0.7531458384393458\n",
      "Epoch 30: Test loss 0.7531458384393458\n",
      "Epoch 31: Test loss 0.7531458384393458\n",
      "Epoch 32: Test loss 0.7531458384393458\n",
      "Epoch 33: Test loss 0.7531458384393458\n",
      "Epoch 34: Test loss 0.7531458384393458\n",
      "Epoch 35: Test loss 0.7531458384393458\n",
      "Epoch 36: Test loss 0.7531458384393458\n",
      "Epoch 37: Test loss 0.7531458384393458\n",
      "Epoch 38: Test loss 0.7531458384393458\n",
      "Epoch 39: Test loss 0.7531458384393458\n",
      "Epoch 40: Test loss 0.7531458384393458\n",
      "Epoch 41: Test loss 0.7531458384393458\n",
      "Epoch 42: Test loss 0.7531458384393458\n",
      "Epoch 43: Test loss 0.7531458384393458\n",
      "Epoch 44: Test loss 0.7531458384393458\n",
      "Epoch 45: Test loss 0.7531458384393458\n",
      "Epoch 46: Test loss 0.7531458384393458\n",
      "Epoch 47: Test loss 0.7531458384393458\n",
      "Epoch 48: Test loss 0.7531458384393458\n",
      "Epoch 49: Test loss 0.7531458384393458\n",
      "Epoch 50: Test loss 0.7531458384393458\n",
      "Epoch 51: Test loss 0.7531458384393458\n",
      "Epoch 52: Test loss 0.7531458384393458\n",
      "Epoch 53: Test loss 0.7531458384393458\n",
      "Epoch 54: Test loss 0.7531458384393458\n",
      "Epoch 55: Test loss 0.7531458384393458\n",
      "Epoch 56: Test loss 0.7531458384393458\n",
      "Epoch 57: Test loss 0.7531458384393458\n",
      "Epoch 58: Test loss 0.7531458384393458\n",
      "Epoch 59: Test loss 0.7531458384393458\n",
      "Epoch 60: Test loss 0.7531458384393458\n",
      "Epoch 61: Test loss 0.7531458384393458\n",
      "Epoch 62: Test loss 0.7531458384393458\n",
      "Epoch 63: Test loss 0.7531458384393458\n",
      "Epoch 64: Test loss 0.7531458384393458\n",
      "Epoch 65: Test loss 0.7531458384393458\n",
      "Epoch 66: Test loss 0.7531458384393458\n",
      "Epoch 67: Test loss 0.7531458384393458\n",
      "Epoch 68: Test loss 0.7531458384393458\n",
      "Epoch 69: Test loss 0.7531458384393458\n",
      "Epoch 70: Test loss 0.7531458384393458\n",
      "Epoch 71: Test loss 0.7531458384393458\n",
      "Epoch 72: Test loss 0.7531458384393458\n",
      "Epoch 73: Test loss 0.7531458384393458\n",
      "Epoch 74: Test loss 0.7531458384393458\n",
      "Epoch 75: Test loss 0.7531458384393458\n",
      "Epoch 76: Test loss 0.7531458384393458\n",
      "Epoch 77: Test loss 0.7531458384393458\n",
      "Epoch 78: Test loss 0.7531458384393458\n",
      "Epoch 79: Test loss 0.7531458384393458\n",
      "Epoch 80: Test loss 0.7531458384393458\n",
      "Epoch 81: Test loss 0.7531458384393458\n",
      "Epoch 82: Test loss 0.7531458384393458\n",
      "Epoch 83: Test loss 0.7531458384393458\n",
      "Epoch 84: Test loss 0.7531458384393458\n",
      "Epoch 85: Test loss 0.7531458384393458\n",
      "Epoch 86: Test loss 0.7531458384393458\n",
      "Epoch 87: Test loss 0.7531458384393458\n",
      "Epoch 88: Test loss 0.7531458384393458\n",
      "Epoch 89: Test loss 0.7531458384393458\n",
      "Epoch 90: Test loss 0.7531458384393458\n",
      "Epoch 91: Test loss 0.7531458384393458\n",
      "Epoch 92: Test loss 0.7531458384393458\n",
      "Epoch 93: Test loss 0.7531458384393458\n",
      "Epoch 94: Test loss 0.7531458384393458\n",
      "Epoch 95: Test loss 0.7531458384393458\n",
      "Epoch 96: Test loss 0.7531458384393458\n",
      "Epoch 97: Test loss 0.7531458384393458\n",
      "Epoch 98: Test loss 0.7531458384393458\n",
      "Epoch 99: Test loss 0.7531458384393458\n",
      "15.412364959716797 seconds elapsed.\n"
     ]
    }
   ],
   "source": [
    "x = np.random.normal(0.0, 1.0, (10,))\n",
    "y = np.random.normal(0.0, 1.0, (2,))\n",
    "\n",
    "t = time.time()\n",
    "dnn = DNN(hidden_depth=100, num_neuron=32, input=10, output=2, activation=Sigmoid)\n",
    "loss_obj = MeanSquaredError()\n",
    "for epoch in range(100):\n",
    "    loss = gradient_descent(dnn, x, y, loss_obj, alpha=0.01)\n",
    "    print('Epoch {}: Test loss {}'.format(epoch, loss))\n",
    "print('{} seconds elapsed.'.format(time.time() - t))"
   ]
  },
  {
   "cell_type": "code",
   "execution_count": null,
   "metadata": {},
   "outputs": [],
   "source": []
  }
 ],
 "metadata": {
  "kernelspec": {
   "display_name": "Python 3",
   "language": "python",
   "name": "python3"
  },
  "language_info": {
   "codemirror_mode": {
    "name": "ipython",
    "version": 3
   },
   "file_extension": ".py",
   "mimetype": "text/x-python",
   "name": "python",
   "nbconvert_exporter": "python",
   "pygments_lexer": "ipython3",
   "version": "3.7.7"
  }
 },
 "nbformat": 4,
 "nbformat_minor": 2
}
