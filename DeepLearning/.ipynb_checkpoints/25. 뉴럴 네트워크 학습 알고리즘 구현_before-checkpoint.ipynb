{
 "cells": [
  {
   "cell_type": "markdown",
   "metadata": {},
   "source": [
    "# 뉴럴 네트워크 학습 알고리즘 구현"
   ]
  },
  {
   "cell_type": "markdown",
   "metadata": {},
   "source": [
    "## Import modules"
   ]
  },
  {
   "cell_type": "code",
   "execution_count": 28,
   "metadata": {},
   "outputs": [],
   "source": [
    "import tensorflow as tf"
   ]
  },
  {
   "cell_type": "markdown",
   "metadata": {},
   "source": [
    "## 하이퍼파라미터 정의"
   ]
  },
  {
   "cell_type": "code",
   "execution_count": 29,
   "metadata": {},
   "outputs": [],
   "source": [
    "EPOCHS=10"
   ]
  },
  {
   "cell_type": "markdown",
   "metadata": {},
   "source": [
    "## 네트워크 구조 정의"
   ]
  },
  {
   "cell_type": "code",
   "execution_count": 30,
   "metadata": {},
   "outputs": [],
   "source": [
    "class MyModel(tf.keras.Model):\n",
    "    def __init__(self): #사용할 layer 정의\n",
    "        super().__init__()\n",
    "        self.flatten=tf.keras.layers.Flatten(input_shape=(28,28))\n",
    "        self.dense1=tf.keras.layers.Dense(32,activation='relu') # parameter, how much neurons --> essential \n",
    "        self.dense2=tf.keras.layers.Dense(64,activation='relu') # parameter, how much neurons --> essential \n",
    "        self.dense3=tf.keras.layers.Dense(128,activation='relu') # parameter, how much neurons --> essential \n",
    "        self.dense4=tf.keras.layers.Dense(256,activation='relu') # parameter, how much neurons --> essential \n",
    "        self.dense5=tf.keras.layers.Dense(10,activation='softmax')\n",
    "        \n",
    "        #각 layer에 대해 서로 연결 해준다.\n",
    "    def call(self,x,training=None,mask=None):\n",
    "        x=self.flatten(x)\n",
    "        x=self.dense1(x)\n",
    "        x=self.dense2(x)\n",
    "        x=self.dense3(x)\n",
    "        x=self.dense4(x)\n",
    "        return self.dense5(x)        "
   ]
  },
  {
   "cell_type": "markdown",
   "metadata": {},
   "source": [
    "## 학습 함수 구현"
   ]
  },
  {
   "cell_type": "code",
   "execution_count": 31,
   "metadata": {},
   "outputs": [],
   "source": [
    "@tf.function #tensorflow function의 형태로 최적화가 진행된다.\n",
    "def train_step(model,images,labels,loss_object,optimizer,train_loss,train_accuracy): #image->training, label -> output \n",
    "    with tf.GradientTape() as tape: #gradientTape 함수를 이용해서 forward operation 과정 속에서 중간결과를 저장하도록 지정한다. -> 즉 나중에 back propagation을 이용할 거니까 미리 중간결과를 저장해줘 라는 명령ㅇ을 내리는 것이다.\n",
    "        predictions=model(images) # 32 * 10 ->각각의 batch 개의 image에 대해서 각각의 output에 대한 확률\n",
    "        loss=loss_object(labels,predictions)\n",
    "    gradients=tape.gradient(loss,model.trainable_variables) #모델에 대한 모든 trainable parameter 에 대해서 미분 진행\n",
    "    optimizer.apply_gradients(zip(gradients,model.trainable_variables))    \n",
    "    \n",
    "    train_loss(loss)\n",
    "    train_accuracy(labels,predictions)"
   ]
  },
  {
   "cell_type": "markdown",
   "metadata": {},
   "source": [
    "## 테스트 함수 구현"
   ]
  },
  {
   "cell_type": "code",
   "execution_count": 32,
   "metadata": {},
   "outputs": [],
   "source": [
    "@tf.function\n",
    "def test_step(model,images,labels,loss_object,train_loss,train_accuracy):\n",
    "    predictions=model(images)\n",
    "    loss=loss_object(labels,predictions)\n",
    "    \n",
    "    train_loss(loss)\n",
    "    train_accuracy(labels,predictions)"
   ]
  },
  {
   "cell_type": "markdown",
   "metadata": {},
   "source": [
    "## 데이터 불러오기"
   ]
  },
  {
   "cell_type": "code",
   "execution_count": 33,
   "metadata": {},
   "outputs": [],
   "source": [
    "mnist=tf.keras.datasets.mnist\n",
    "(x_train,y_train),(x_test,y_test)=mnist.load_data()\n",
    "\n",
    "x_train,x_test=x_train/255.0,x_test/255.0 #x_train,x_test -> 0~255 부터의 integer로 이루어진 데이터이므로 이를 float 형태로 만들어준다. normalize\n",
    "\n",
    "train_ds=tf.data.Dataset.from_tensor_slices((x_train,y_train)).shuffle(1024).batch(32)\n",
    "test_ds=tf.data.Dataset.from_tensor_slices((x_test,y_test)).batch(32)"
   ]
  },
  {
   "cell_type": "markdown",
   "metadata": {},
   "source": [
    "## 모델 생성"
   ]
  },
  {
   "cell_type": "code",
   "execution_count": 34,
   "metadata": {},
   "outputs": [],
   "source": [
    "model=MyModel()"
   ]
  },
  {
   "cell_type": "markdown",
   "metadata": {},
   "source": [
    "## 손실함수 및 최적화 알고리즘 정의"
   ]
  },
  {
   "cell_type": "code",
   "execution_count": 35,
   "metadata": {},
   "outputs": [
    {
     "name": "stdout",
     "output_type": "stream",
     "text": [
      "[5 0 4 ... 5 6 8]\n",
      "(60000,)\n",
      "<class 'numpy.ndarray'>\n"
     ]
    }
   ],
   "source": [
    "print(y_train)\n",
    "print(y_train.shape)\n",
    "print(type(y_train))"
   ]
  },
  {
   "cell_type": "code",
   "execution_count": 36,
   "metadata": {},
   "outputs": [],
   "source": [
    "loss_object=tf.keras.losses.SparseCategoricalCrossentropy()  \n",
    "\"\"\"\n",
    "label, prediction input으로 받는다. prediction -> BatchSize * classes \n",
    "label 이 속하는 class만 표현하는 Sparse 형태인 경우 SparseCaterogy..함수를 사용하고, \n",
    "만약 label이 prediction과 동일한 형태로 모든 class에 대해 0,1 로 표현 되어 있는 경우 Category..함수를 이용한다.\n",
    "\"\"\"\n",
    "optimizer=tf.keras.optimizers.Adam() #Adam optimizer 활용"
   ]
  },
  {
   "cell_type": "markdown",
   "metadata": {},
   "source": [
    "## 성능 지표 정의"
   ]
  },
  {
   "cell_type": "code",
   "execution_count": 37,
   "metadata": {},
   "outputs": [],
   "source": [
    "train_loss=tf.keras.metrics.Mean(name='train_loss') #loss function의 값에 대해서 mean값을 구해주면 된다.\n",
    "train_accuracy=tf.keras.metrics.SparseCategoricalAccuracy(name='train_accuracy') #loss object와 같은 쓰임을 보인다. ->따라서 format을 맞춰준디.\n",
    "\n",
    "test_loss=tf.keras.metrics.Mean(name='train_loss')\n",
    "test_accuracy=tf.keras.metrics.SparseCategoricalAccuracy(name='train_accuracy')"
   ]
  },
  {
   "cell_type": "markdown",
   "metadata": {},
   "source": [
    "## 학습 루프 구현"
   ]
  },
  {
   "cell_type": "code",
   "execution_count": 38,
   "metadata": {
    "scrolled": true
   },
   "outputs": [
    {
     "name": "stdout",
     "output_type": "stream",
     "text": [
      "WARNING:tensorflow:Layer my_model_2 is casting an input tensor from dtype float64 to the layer's dtype of float32, which is new behavior in TensorFlow 2.  The layer has dtype float32 because it's dtype defaults to floatx.\n",
      "\n",
      "If you intended to run this layer in float32, you can safely ignore this warning. If in doubt, this warning is likely only an issue if you are porting a TensorFlow 1.X model to TensorFlow 2.\n",
      "\n",
      "To change all layers to have dtype float64 by default, call `tf.keras.backend.set_floatx('float64')`. To change just this layer, pass dtype='float64' to the layer constructor. If you are the author of this layer, you can disable autocasting by passing autocast=False to the base Layer constructor.\n",
      "\n",
      "Epoch 1 : Train Loss: 0.2841379642486572, Train Accuracy : 91.32999420166016%, Test Loss: 0.1701531857252121, Test Accuracy : 94.8183364868164%\n",
      "Epoch 2 : Train Loss: 0.14023716747760773, Train Accuracy : 95.66666412353516%, Test Loss: 0.13468357920646667, Test Accuracy : 96.00333404541016%\n",
      "Epoch 3 : Train Loss: 0.11126086115837097, Train Accuracy : 96.6066665649414%, Test Loss: 0.10808881372213364, Test Accuracy : 96.6066665649414%\n",
      "Epoch 4 : Train Loss: 0.09071198105812073, Train Accuracy : 97.23500061035156%, Test Loss: 0.08518225699663162, Test Accuracy : 97.2249984741211%\n",
      "Epoch 5 : Train Loss: 0.08096165955066681, Train Accuracy : 97.4816665649414%, Test Loss: 0.06946264952421188, Test Accuracy : 97.836669921875%\n",
      "Epoch 6 : Train Loss: 0.06965894997119904, Train Accuracy : 97.8116683959961%, Test Loss: 0.06511527299880981, Test Accuracy : 97.9749984741211%\n",
      "Epoch 7 : Train Loss: 0.0631595030426979, Train Accuracy : 97.90499877929688%, Test Loss: 0.0726243183016777, Test Accuracy : 97.6016616821289%\n",
      "Epoch 8 : Train Loss: 0.05531388893723488, Train Accuracy : 98.15166473388672%, Test Loss: 0.05277411639690399, Test Accuracy : 98.32666778564453%\n",
      "Epoch 9 : Train Loss: 0.0521380715072155, Train Accuracy : 98.33833312988281%, Test Loss: 0.051761284470558167, Test Accuracy : 98.2933349609375%\n",
      "Epoch 10 : Train Loss: 0.04487359896302223, Train Accuracy : 98.49333190917969%, Test Loss: 0.05061037093400955, Test Accuracy : 98.37333679199219%\n"
     ]
    }
   ],
   "source": [
    "for epoch in range(EPOCHS):\n",
    "    for images, lables in train_ds:\n",
    "        train_step(model, images, lables, loss_object, optimizer, train_loss,train_accuracy)\n",
    "        \n",
    "    for images, lables in train_ds:\n",
    "        test_step(model, images, lables, loss_object, test_loss, test_accuracy)\n",
    "        \n",
    "    template='Epoch {} : Train Loss: {}, Train Accuracy : {}%, Test Loss: {}, Test Accuracy : {}%'\n",
    "    #metric의 결과를 출력하기 위해 result() function을 활용한다.\n",
    "    print(template.format(epoch+1,\n",
    "                        train_loss.result(),train_accuracy.result()*100,\n",
    "                         test_loss.result(),test_accuracy.result()*100))\n",
    "    \n",
    "    #성능 지표의 정의에서 mean값을 구하도록 했기 때문에 state을 초기화 하지 않으면 계속적으로 mean값을 누적해서 계산하게 된다.\n",
    "    train_loss.reset_states()\n",
    "    train_accuracy.reset_states()\n",
    "\n",
    "    test_loss.reset_states()\n",
    "    test_accuracy.reset_states()    "
   ]
  }
 ],
 "metadata": {
  "kernelspec": {
   "display_name": "Python 3",
   "language": "python",
   "name": "python3"
  },
  "language_info": {
   "codemirror_mode": {
    "name": "ipython",
    "version": 3
   },
   "file_extension": ".py",
   "mimetype": "text/x-python",
   "name": "python",
   "nbconvert_exporter": "python",
   "pygments_lexer": "ipython3",
   "version": "3.7.7"
  }
 },
 "nbformat": 4,
 "nbformat_minor": 2
}
