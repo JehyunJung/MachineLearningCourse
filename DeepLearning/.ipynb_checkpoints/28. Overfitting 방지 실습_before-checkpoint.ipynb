{
 "cells": [
  {
   "cell_type": "markdown",
   "metadata": {},
   "source": [
    "# Overfitting 방지 실습"
   ]
  },
  {
   "cell_type": "markdown",
   "metadata": {},
   "source": [
    "## Import modules"
   ]
  },
  {
   "cell_type": "code",
   "execution_count": 1,
   "metadata": {},
   "outputs": [],
   "source": [
    "import tensorflow as tf\n",
    "import numpy as np\n",
    "import matplotlib.pyplot as plt"
   ]
  },
  {
   "cell_type": "markdown",
   "metadata": {},
   "source": [
    "## 하이퍼파라미터 정의"
   ]
  },
  {
   "cell_type": "code",
   "execution_count": 2,
   "metadata": {},
   "outputs": [],
   "source": [
    "EPOCHS = 50"
   ]
  },
  {
   "cell_type": "markdown",
   "metadata": {},
   "source": [
    "## 네트워크 구조 정의"
   ]
  },
  {
   "cell_type": "code",
   "execution_count": 3,
   "metadata": {},
   "outputs": [],
   "source": [
    "class MyModel(tf.keras.Model):\n",
    "    def __init__(self):\n",
    "        super(MyModel, self).__init__()\n",
    "        self.flatten = tf.keras.layers.Flatten()                       # 28x28 = 784\n",
    "        self.dense1 = tf.keras.layers.Dense(64, activation='relu')\n",
    "        self.dense2 = tf.keras.layers.Dense(64, activation='relu')\n",
    "        self.dense3 = tf.keras.layers.Dense(64, activation='relu')\n",
    "        self.dense4 = tf.keras.layers.Dense(128, activation='relu')\n",
    "        self.dense5 = tf.keras.layers.Dense(10, activation='softmax')  # 10\n",
    "\n",
    "    def call(self, x, training=False, mask=None):\n",
    "        h = self.flatten(x)\n",
    "        h = self.dense1(h)\n",
    "        h = self.dense2(h)\n",
    "        h = self.dense3(h)\n",
    "        h = self.dense4(h)\n",
    "        return self.dense5(h)"
   ]
  },
  {
   "cell_type": "markdown",
   "metadata": {},
   "source": [
    "## 데이터 불러오기"
   ]
  },
  {
   "cell_type": "code",
   "execution_count": 4,
   "metadata": {},
   "outputs": [],
   "source": [
    "fashion_mnist = tf.keras.datasets.fashion_mnist\n",
    "\n",
    "(x_train, y_train), (x_test, y_test) = fashion_mnist.load_data()\n",
    "x_train, x_test = x_train / 255.0, x_test / 255.0\n",
    "\n",
    "x_train = x_train.astype(np.float32)\n",
    "x_test = x_test.astype(np.float32)\n",
    "\n",
    "train_ds = tf.data.Dataset.from_tensor_slices((x_train, y_train)).shuffle(10000).batch(32).prefetch(2048)\n",
    "test_ds = tf.data.Dataset.from_tensor_slices((x_test, y_test)).batch(32).prefetch(2048)"
   ]
  },
  {
   "cell_type": "markdown",
   "metadata": {},
   "source": [
    "## 모델 생성"
   ]
  },
  {
   "cell_type": "code",
   "execution_count": 5,
   "metadata": {},
   "outputs": [],
   "source": [
    "model = MyModel()\n",
    "\n",
    "model.compile(optimizer='adam',\n",
    "              loss='sparse_categorical_crossentropy',\n",
    "              metrics=['accuracy'])"
   ]
  },
  {
   "cell_type": "markdown",
   "metadata": {},
   "source": [
    "## 모델 학습"
   ]
  },
  {
   "cell_type": "code",
   "execution_count": 6,
   "metadata": {
    "scrolled": true
   },
   "outputs": [
    {
     "name": "stdout",
     "output_type": "stream",
     "text": [
      "Train for 1875 steps, validate for 313 steps\n",
      "Epoch 1/50\n",
      "1875/1875 [==============================] - 8s 4ms/step - loss: 0.5216 - accuracy: 0.8114 - val_loss: 0.4310 - val_accuracy: 0.8428\n",
      "Epoch 2/50\n",
      "1875/1875 [==============================] - 7s 4ms/step - loss: 0.3821 - accuracy: 0.8586 - val_loss: 0.3990 - val_accuracy: 0.8545\n",
      "Epoch 3/50\n",
      "1875/1875 [==============================] - 7s 4ms/step - loss: 0.3453 - accuracy: 0.8715 - val_loss: 0.3786 - val_accuracy: 0.8638\n",
      "Epoch 4/50\n",
      "1875/1875 [==============================] - 7s 4ms/step - loss: 0.3249 - accuracy: 0.8798 - val_loss: 0.3856 - val_accuracy: 0.8587\n",
      "Epoch 5/50\n",
      "1875/1875 [==============================] - 6s 3ms/step - loss: 0.3119 - accuracy: 0.8835 - val_loss: 0.3487 - val_accuracy: 0.8727\n",
      "Epoch 6/50\n",
      "1875/1875 [==============================] - 6s 3ms/step - loss: 0.2941 - accuracy: 0.8895 - val_loss: 0.3541 - val_accuracy: 0.8736\n",
      "Epoch 7/50\n",
      "1875/1875 [==============================] - 6s 3ms/step - loss: 0.2840 - accuracy: 0.8927 - val_loss: 0.3481 - val_accuracy: 0.8810\n",
      "Epoch 8/50\n",
      "1875/1875 [==============================] - 7s 4ms/step - loss: 0.2765 - accuracy: 0.8959 - val_loss: 0.3386 - val_accuracy: 0.8766\n",
      "Epoch 9/50\n",
      "1875/1875 [==============================] - 8s 4ms/step - loss: 0.2640 - accuracy: 0.9013 - val_loss: 0.3756 - val_accuracy: 0.8695\n",
      "Epoch 10/50\n",
      "1875/1875 [==============================] - 7s 4ms/step - loss: 0.2576 - accuracy: 0.9020 - val_loss: 0.3713 - val_accuracy: 0.8639\n",
      "Epoch 11/50\n",
      "1875/1875 [==============================] - 8s 4ms/step - loss: 0.2515 - accuracy: 0.9047 - val_loss: 0.3496 - val_accuracy: 0.8788\n",
      "Epoch 12/50\n",
      "1875/1875 [==============================] - 8s 4ms/step - loss: 0.2459 - accuracy: 0.9071 - val_loss: 0.3520 - val_accuracy: 0.8786\n",
      "Epoch 13/50\n",
      "1875/1875 [==============================] - 8s 4ms/step - loss: 0.2404 - accuracy: 0.9080 - val_loss: 0.3427 - val_accuracy: 0.8821\n",
      "Epoch 14/50\n",
      "1875/1875 [==============================] - 7s 4ms/step - loss: 0.2337 - accuracy: 0.9112 - val_loss: 0.3583 - val_accuracy: 0.8776\n",
      "Epoch 15/50\n",
      "1875/1875 [==============================] - 7s 3ms/step - loss: 0.2291 - accuracy: 0.9128 - val_loss: 0.3457 - val_accuracy: 0.8836\n",
      "Epoch 16/50\n",
      "1875/1875 [==============================] - 7s 4ms/step - loss: 0.2255 - accuracy: 0.9143 - val_loss: 0.3578 - val_accuracy: 0.8796\n",
      "Epoch 17/50\n",
      "1875/1875 [==============================] - 6s 3ms/step - loss: 0.2195 - accuracy: 0.9162 - val_loss: 0.3873 - val_accuracy: 0.8750\n",
      "Epoch 18/50\n",
      "1875/1875 [==============================] - 6s 3ms/step - loss: 0.2166 - accuracy: 0.9175 - val_loss: 0.3640 - val_accuracy: 0.8808\n",
      "Epoch 19/50\n",
      "1875/1875 [==============================] - 6s 3ms/step - loss: 0.2114 - accuracy: 0.9192 - val_loss: 0.3771 - val_accuracy: 0.8791\n",
      "Epoch 20/50\n",
      "1875/1875 [==============================] - 6s 3ms/step - loss: 0.2074 - accuracy: 0.9201 - val_loss: 0.3813 - val_accuracy: 0.8828\n",
      "Epoch 21/50\n",
      "1875/1875 [==============================] - 6s 3ms/step - loss: 0.2054 - accuracy: 0.9203 - val_loss: 0.3688 - val_accuracy: 0.8800\n",
      "Epoch 22/50\n",
      "1875/1875 [==============================] - 6s 3ms/step - loss: 0.1999 - accuracy: 0.9231 - val_loss: 0.3722 - val_accuracy: 0.8812\n",
      "Epoch 23/50\n",
      "1875/1875 [==============================] - 6s 3ms/step - loss: 0.1980 - accuracy: 0.9241 - val_loss: 0.3885 - val_accuracy: 0.8822\n",
      "Epoch 24/50\n",
      "1875/1875 [==============================] - 6s 3ms/step - loss: 0.1923 - accuracy: 0.9255 - val_loss: 0.3841 - val_accuracy: 0.8862\n",
      "Epoch 25/50\n",
      "1875/1875 [==============================] - 7s 4ms/step - loss: 0.1905 - accuracy: 0.9273 - val_loss: 0.3922 - val_accuracy: 0.8805\n",
      "Epoch 26/50\n",
      "1875/1875 [==============================] - 7s 3ms/step - loss: 0.1897 - accuracy: 0.9258 - val_loss: 0.4073 - val_accuracy: 0.8764\n",
      "Epoch 27/50\n",
      "1875/1875 [==============================] - 6s 3ms/step - loss: 0.1855 - accuracy: 0.9283 - val_loss: 0.4013 - val_accuracy: 0.8825\n",
      "Epoch 28/50\n",
      "1875/1875 [==============================] - 7s 4ms/step - loss: 0.1833 - accuracy: 0.9288 - val_loss: 0.4047 - val_accuracy: 0.8835\n",
      "Epoch 29/50\n",
      "1875/1875 [==============================] - 7s 4ms/step - loss: 0.1807 - accuracy: 0.9297 - val_loss: 0.4046 - val_accuracy: 0.8886\n",
      "Epoch 30/50\n",
      "1875/1875 [==============================] - 8s 4ms/step - loss: 0.1773 - accuracy: 0.9317 - val_loss: 0.4275 - val_accuracy: 0.8823\n",
      "Epoch 31/50\n",
      "1875/1875 [==============================] - 7s 4ms/step - loss: 0.1768 - accuracy: 0.9316 - val_loss: 0.4194 - val_accuracy: 0.8807\n",
      "Epoch 32/50\n",
      "1875/1875 [==============================] - 7s 3ms/step - loss: 0.1758 - accuracy: 0.9324 - val_loss: 0.4220 - val_accuracy: 0.8864\n",
      "Epoch 33/50\n",
      "1875/1875 [==============================] - 7s 4ms/step - loss: 0.1687 - accuracy: 0.9345 - val_loss: 0.4535 - val_accuracy: 0.8754\n",
      "Epoch 34/50\n",
      "1875/1875 [==============================] - 7s 4ms/step - loss: 0.1675 - accuracy: 0.9346 - val_loss: 0.4307 - val_accuracy: 0.8870\n",
      "Epoch 35/50\n",
      "1875/1875 [==============================] - 6s 3ms/step - loss: 0.1680 - accuracy: 0.9354 - val_loss: 0.4340 - val_accuracy: 0.8867\n",
      "Epoch 36/50\n",
      "1875/1875 [==============================] - 6s 3ms/step - loss: 0.1638 - accuracy: 0.9366 - val_loss: 0.4496 - val_accuracy: 0.8842\n",
      "Epoch 37/50\n",
      "1875/1875 [==============================] - 6s 3ms/step - loss: 0.1592 - accuracy: 0.9381 - val_loss: 0.4807 - val_accuracy: 0.8846\n",
      "Epoch 38/50\n",
      "1875/1875 [==============================] - 7s 4ms/step - loss: 0.1631 - accuracy: 0.9362 - val_loss: 0.4370 - val_accuracy: 0.8841\n",
      "Epoch 39/50\n",
      "1875/1875 [==============================] - 7s 4ms/step - loss: 0.1548 - accuracy: 0.9398 - val_loss: 0.4546 - val_accuracy: 0.8877\n",
      "Epoch 40/50\n",
      "1875/1875 [==============================] - 8s 4ms/step - loss: 0.1576 - accuracy: 0.9390 - val_loss: 0.4599 - val_accuracy: 0.8893\n",
      "Epoch 41/50\n",
      "1875/1875 [==============================] - 6s 3ms/step - loss: 0.1555 - accuracy: 0.9397 - val_loss: 0.4839 - val_accuracy: 0.8851\n",
      "Epoch 42/50\n",
      "1875/1875 [==============================] - 6s 3ms/step - loss: 0.1573 - accuracy: 0.9391 - val_loss: 0.4715 - val_accuracy: 0.8830\n",
      "Epoch 43/50\n",
      "1875/1875 [==============================] - 6s 3ms/step - loss: 0.1505 - accuracy: 0.9413 - val_loss: 0.5618 - val_accuracy: 0.8761\n",
      "Epoch 44/50\n",
      "1875/1875 [==============================] - 6s 3ms/step - loss: 0.1540 - accuracy: 0.9405 - val_loss: 0.4486 - val_accuracy: 0.8867\n",
      "Epoch 45/50\n",
      "1875/1875 [==============================] - 6s 3ms/step - loss: 0.1494 - accuracy: 0.9415 - val_loss: 0.4832 - val_accuracy: 0.8779\n",
      "Epoch 46/50\n",
      "1875/1875 [==============================] - 6s 3ms/step - loss: 0.1482 - accuracy: 0.9432 - val_loss: 0.4990 - val_accuracy: 0.8861\n",
      "Epoch 47/50\n",
      "1875/1875 [==============================] - 9s 5ms/step - loss: 0.1444 - accuracy: 0.9445 - val_loss: 0.4822 - val_accuracy: 0.8838\n",
      "Epoch 48/50\n",
      "1875/1875 [==============================] - 9s 5ms/step - loss: 0.1432 - accuracy: 0.9441 - val_loss: 0.5054 - val_accuracy: 0.8805\n",
      "Epoch 49/50\n",
      "1875/1875 [==============================] - 7s 4ms/step - loss: 0.1431 - accuracy: 0.9438 - val_loss: 0.5321 - val_accuracy: 0.8809\n",
      "Epoch 50/50\n",
      "1875/1875 [==============================] - 7s 4ms/step - loss: 0.1397 - accuracy: 0.9458 - val_loss: 0.5497 - val_accuracy: 0.8861\n"
     ]
    }
   ],
   "source": [
    "history = model.fit(train_ds, validation_data=test_ds, epochs=EPOCHS) #history에 저장하므로써 이 정보를 토대로 matplot으로 visualization 가능"
   ]
  },
  {
   "cell_type": "markdown",
   "metadata": {},
   "source": [
    "Validation Accuracy Increases But Validation Loss Increases\n",
    "-> **Overfitting**"
   ]
  },
  {
   "cell_type": "markdown",
   "metadata": {},
   "source": [
    "## Matplotlib을 이용한 시각화"
   ]
  },
  {
   "cell_type": "code",
   "execution_count": 8,
   "metadata": {},
   "outputs": [
    {
     "data": {
      "text/plain": [
       "Text(0.5, 1.0, 'Training and Validation Loss')"
      ]
     },
     "execution_count": 8,
     "metadata": {},
     "output_type": "execute_result"
    },
    {
     "data": {
      "image/png": "[encoded data removed]",
      "text/plain": [
       "<Figure size 432x288 with 1 Axes>"
      ]
     },
     "metadata": {
      "needs_background": "light"
     },
     "output_type": "display_data"
    }
   ],
   "source": [
    "loss=history.history['loss']\n",
    "val_loss=history.history['val_loss']\n",
    "\n",
    "plt.figure()\n",
    "plt.plot(loss,'ro-') # r->read o->circle points - ->point connected with lines\n",
    "plt.plot(val_loss,'bo-')\n",
    "plt.ylabel('Cross Entropy')\n",
    "plt.xlabel('Epoch')\n",
    "plt.title('Training and Validation Loss')"
   ]
  },
  {
   "cell_type": "markdown",
   "metadata": {},
   "source": [
    "Training Loss decreases But Validation Loss Increases\n",
    "\n",
    "Separated by 3 phases\n",
    "- Underfitting\n",
    "- Optimization\n",
    "- Overfitting"
   ]
  },
  {
   "cell_type": "markdown",
   "metadata": {},
   "source": [
    "## Early Stop 방식의  overfitting 감소\n",
    "특정 action/시점에 callback호출을 통해 원하는 작업을 실행 할 수 있도록 한다."
   ]
  },
  {
   "cell_type": "code",
   "execution_count": 11,
   "metadata": {},
   "outputs": [],
   "source": [
    "early_stopper=tf.keras.callbacks.EarlyStopping(monitor='val_loss',patience=10,verbose=1) #monitoring 하고자 하는 변수 등록, 에러 관용 수치, 학습 진행 상황 표기"
   ]
  },
  {
   "cell_type": "code",
   "execution_count": 12,
   "metadata": {},
   "outputs": [
    {
     "name": "stdout",
     "output_type": "stream",
     "text": [
      "Train for 1875 steps, validate for 313 steps\n",
      "Epoch 1/50\n",
      "1875/1875 [==============================] - 5s 3ms/step - loss: 0.1316 - accuracy: 0.9495 - val_loss: 0.5638 - val_accuracy: 0.8841\n",
      "Epoch 2/50\n",
      "1875/1875 [==============================] - 5s 3ms/step - loss: 0.1348 - accuracy: 0.9482 - val_loss: 0.5226 - val_accuracy: 0.8815\n",
      "Epoch 3/50\n",
      "1875/1875 [==============================] - 5s 3ms/step - loss: 0.1385 - accuracy: 0.9481 - val_loss: 0.5136 - val_accuracy: 0.8827\n",
      "Epoch 4/50\n",
      "1875/1875 [==============================] - 5s 3ms/step - loss: 0.1311 - accuracy: 0.9499 - val_loss: 0.5424 - val_accuracy: 0.8854\n",
      "Epoch 5/50\n",
      "1875/1875 [==============================] - 5s 3ms/step - loss: 0.1296 - accuracy: 0.9500 - val_loss: 0.5987 - val_accuracy: 0.8807\n",
      "Epoch 6/50\n",
      "1875/1875 [==============================] - 6s 3ms/step - loss: 0.1290 - accuracy: 0.9510 - val_loss: 0.5694 - val_accuracy: 0.8839\n",
      "Epoch 7/50\n",
      "1875/1875 [==============================] - 6s 3ms/step - loss: 0.1310 - accuracy: 0.9504 - val_loss: 0.6304 - val_accuracy: 0.8817\n",
      "Epoch 8/50\n",
      "1875/1875 [==============================] - 6s 3ms/step - loss: 0.1273 - accuracy: 0.9509 - val_loss: 0.6186 - val_accuracy: 0.8837\n",
      "Epoch 9/50\n",
      "1875/1875 [==============================] - 6s 3ms/step - loss: 0.1287 - accuracy: 0.9509 - val_loss: 0.6369 - val_accuracy: 0.8893\n",
      "Epoch 10/50\n",
      "1875/1875 [==============================] - 6s 3ms/step - loss: 0.1262 - accuracy: 0.9510 - val_loss: 0.6024 - val_accuracy: 0.8812\n",
      "Epoch 11/50\n",
      "1875/1875 [==============================] - 6s 3ms/step - loss: 0.1256 - accuracy: 0.9513 - val_loss: 0.6299 - val_accuracy: 0.8832\n",
      "Epoch 12/50\n",
      "1875/1875 [==============================] - 6s 3ms/step - loss: 0.1242 - accuracy: 0.9521 - val_loss: 0.6113 - val_accuracy: 0.8856\n",
      "Epoch 13/50\n",
      "1875/1875 [==============================] - 6s 3ms/step - loss: 0.1243 - accuracy: 0.9530 - val_loss: 0.6864 - val_accuracy: 0.8796\n",
      "Epoch 00013: early stopping\n"
     ]
    }
   ],
   "source": [
    "earlystop_history = model.fit(train_ds, validation_data=test_ds, epochs=EPOCHS,callbacks=[early_stopper]) #history에 저장하므로써 이 정보를 토대로 matplot으로 visualization 가능"
   ]
  },
  {
   "cell_type": "code",
   "execution_count": 13,
   "metadata": {},
   "outputs": [
    {
     "data": {
      "text/plain": [
       "Text(0.5, 1.0, 'Training and Validation Loss Using Early Stoppging Method')"
      ]
     },
     "execution_count": 13,
     "metadata": {},
     "output_type": "execute_result"
    },
    {
     "data": {
      "image/png": "[encoded data removed]",
      "text/plain": [
       "<Figure size 432x288 with 1 Axes>"
      ]
     },
     "metadata": {
      "needs_background": "light"
     },
     "output_type": "display_data"
    }
   ],
   "source": [
    "loss=earlystop_history.history['loss']\n",
    "val_loss=earlystop_history.history['val_loss']\n",
    "\n",
    "plt.figure()\n",
    "plt.plot(loss,'ro-') # r->read o->circle points - ->point connected with lines\n",
    "plt.plot(val_loss,'bo-')\n",
    "plt.ylabel('Cross Entropy')\n",
    "plt.xlabel('Epoch')\n",
    "plt.title('Training and Validation Loss Using Early Stoppging Method')"
   ]
  },
  {
   "cell_type": "markdown",
   "metadata": {},
   "source": [
    "## Drop Out 방식을 통한 overfitting 감소\n",
    "특정 뉴런에 특화되어서 training 결과가 overfitting 되는 현상을 방지한다."
   ]
  },
  {
   "cell_type": "code",
   "execution_count": 37,
   "metadata": {},
   "outputs": [],
   "source": [
    "class MyDropoutModel(tf.keras.Model):\n",
    "    def __init__(self):\n",
    "        super(MyDropoutModel, self).__init__()\n",
    "        self.flatten = tf.keras.layers.Flatten()                       # 28x28 = 784\n",
    "        self.dense1 = tf.keras.layers.Dense(64, activation='relu')\n",
    "        self.dense2 = tf.keras.layers.Dense(64, activation='relu')\n",
    "        self.dense3 = tf.keras.layers.Dense(64, activation='relu')\n",
    "        self.dense4 = tf.keras.layers.Dense(64, activation='relu')\n",
    "        self.dropout4=tf.keras.layers.Dropout(0.5)\n",
    "        self.dense5 = tf.keras.layers.Dense(10, activation='softmax')  # 10\n",
    "\n",
    "    def call(self, x, training=False, mask=None):\n",
    "        h = self.flatten(x)\n",
    "        h = self.dense1(h)\n",
    "        h = self.dense2(h)\n",
    "        h = self.dense3(h)\n",
    "        h = self.dense4(h)\n",
    "        h=self.dropout4(h)\n",
    "        return self.dense5(h)"
   ]
  },
  {
   "cell_type": "code",
   "execution_count": 38,
   "metadata": {},
   "outputs": [],
   "source": [
    "dropout_model = MyDropoutModel()\n",
    "\n",
    "dropout_model.compile(optimizer='adam',\n",
    "              loss='sparse_categorical_crossentropy',\n",
    "              metrics=['accuracy'])"
   ]
  },
  {
   "cell_type": "code",
   "execution_count": 39,
   "metadata": {
    "scrolled": true
   },
   "outputs": [
    {
     "name": "stdout",
     "output_type": "stream",
     "text": [
      "Train for 1875 steps, validate for 313 steps\n",
      "Epoch 1/50\n",
      "1875/1875 [==============================] - 7s 4ms/step - loss: 0.6421 - accuracy: 0.7774 - val_loss: 0.4622 - val_accuracy: 0.8327\n",
      "Epoch 2/50\n",
      "1875/1875 [==============================] - 8s 4ms/step - loss: 0.4436 - accuracy: 0.8465 - val_loss: 0.4135 - val_accuracy: 0.8480\n",
      "Epoch 3/50\n",
      "1875/1875 [==============================] - 8s 4ms/step - loss: 0.4000 - accuracy: 0.8599 - val_loss: 0.3963 - val_accuracy: 0.8593\n",
      "Epoch 4/50\n",
      "1875/1875 [==============================] - 6s 3ms/step - loss: 0.3730 - accuracy: 0.8699 - val_loss: 0.3933 - val_accuracy: 0.8611\n",
      "Epoch 5/50\n",
      "1875/1875 [==============================] - 6s 3ms/step - loss: 0.3526 - accuracy: 0.8762 - val_loss: 0.3820 - val_accuracy: 0.8641\n",
      "Epoch 6/50\n",
      "1875/1875 [==============================] - 6s 3ms/step - loss: 0.3361 - accuracy: 0.8814 - val_loss: 0.3725 - val_accuracy: 0.8701\n",
      "Epoch 7/50\n",
      "1875/1875 [==============================] - 6s 3ms/step - loss: 0.3229 - accuracy: 0.8855 - val_loss: 0.3572 - val_accuracy: 0.8706\n",
      "Epoch 8/50\n",
      "1875/1875 [==============================] - 6s 3ms/step - loss: 0.3133 - accuracy: 0.8881 - val_loss: 0.3721 - val_accuracy: 0.8718\n",
      "Epoch 9/50\n",
      "1875/1875 [==============================] - 6s 3ms/step - loss: 0.3044 - accuracy: 0.8916 - val_loss: 0.3654 - val_accuracy: 0.8769\n",
      "Epoch 10/50\n",
      "1875/1875 [==============================] - 6s 3ms/step - loss: 0.2961 - accuracy: 0.8949 - val_loss: 0.3611 - val_accuracy: 0.8713\n",
      "Epoch 11/50\n",
      "1875/1875 [==============================] - 7s 3ms/step - loss: 0.2885 - accuracy: 0.8952 - val_loss: 0.3708 - val_accuracy: 0.8729\n",
      "Epoch 12/50\n",
      "1875/1875 [==============================] - 7s 4ms/step - loss: 0.2819 - accuracy: 0.8982 - val_loss: 0.3758 - val_accuracy: 0.8715\n",
      "Epoch 13/50\n",
      "1875/1875 [==============================] - 6s 3ms/step - loss: 0.2729 - accuracy: 0.9011 - val_loss: 0.3893 - val_accuracy: 0.8734\n",
      "Epoch 14/50\n",
      "1875/1875 [==============================] - 6s 3ms/step - loss: 0.2688 - accuracy: 0.9016 - val_loss: 0.3544 - val_accuracy: 0.8769\n",
      "Epoch 15/50\n",
      "1875/1875 [==============================] - 6s 3ms/step - loss: 0.2655 - accuracy: 0.9042 - val_loss: 0.3705 - val_accuracy: 0.8784\n",
      "Epoch 16/50\n",
      "1875/1875 [==============================] - 6s 3ms/step - loss: 0.2580 - accuracy: 0.9050 - val_loss: 0.3717 - val_accuracy: 0.8774\n",
      "Epoch 17/50\n",
      "1875/1875 [==============================] - 6s 3ms/step - loss: 0.2538 - accuracy: 0.9075 - val_loss: 0.3823 - val_accuracy: 0.8744\n",
      "Epoch 18/50\n",
      "1875/1875 [==============================] - 6s 3ms/step - loss: 0.2511 - accuracy: 0.9079 - val_loss: 0.3838 - val_accuracy: 0.8751\n",
      "Epoch 19/50\n",
      "1875/1875 [==============================] - 6s 3ms/step - loss: 0.2478 - accuracy: 0.9073 - val_loss: 0.3676 - val_accuracy: 0.8815\n",
      "Epoch 20/50\n",
      "1875/1875 [==============================] - 6s 3ms/step - loss: 0.2454 - accuracy: 0.9099 - val_loss: 0.3755 - val_accuracy: 0.8808\n",
      "Epoch 21/50\n",
      "1875/1875 [==============================] - 7s 3ms/step - loss: 0.2418 - accuracy: 0.9118 - val_loss: 0.3684 - val_accuracy: 0.8809\n",
      "Epoch 22/50\n",
      "1875/1875 [==============================] - 6s 3ms/step - loss: 0.2386 - accuracy: 0.9116 - val_loss: 0.3760 - val_accuracy: 0.8804\n",
      "Epoch 23/50\n",
      "1875/1875 [==============================] - 7s 4ms/step - loss: 0.2314 - accuracy: 0.9147 - val_loss: 0.3890 - val_accuracy: 0.8801\n",
      "Epoch 24/50\n",
      "1875/1875 [==============================] - 7s 4ms/step - loss: 0.2338 - accuracy: 0.9148 - val_loss: 0.3915 - val_accuracy: 0.8820\n",
      "Epoch 25/50\n",
      "1875/1875 [==============================] - 6s 3ms/step - loss: 0.2293 - accuracy: 0.9158 - val_loss: 0.3803 - val_accuracy: 0.8786\n",
      "Epoch 26/50\n",
      "1875/1875 [==============================] - 6s 3ms/step - loss: 0.2247 - accuracy: 0.9167 - val_loss: 0.3895 - val_accuracy: 0.8791\n",
      "Epoch 27/50\n",
      "1875/1875 [==============================] - 6s 3ms/step - loss: 0.2228 - accuracy: 0.9166 - val_loss: 0.4058 - val_accuracy: 0.8829\n",
      "Epoch 28/50\n",
      "1875/1875 [==============================] - 6s 3ms/step - loss: 0.2197 - accuracy: 0.9196 - val_loss: 0.4237 - val_accuracy: 0.8819\n",
      "Epoch 29/50\n",
      "1875/1875 [==============================] - 6s 3ms/step - loss: 0.2193 - accuracy: 0.9193 - val_loss: 0.4139 - val_accuracy: 0.8823\n",
      "Epoch 30/50\n",
      "1875/1875 [==============================] - 6s 3ms/step - loss: 0.2152 - accuracy: 0.9198 - val_loss: 0.4002 - val_accuracy: 0.8802\n",
      "Epoch 31/50\n",
      "1875/1875 [==============================] - 6s 3ms/step - loss: 0.2132 - accuracy: 0.9208 - val_loss: 0.4456 - val_accuracy: 0.8850\n",
      "Epoch 32/50\n",
      "1875/1875 [==============================] - 6s 3ms/step - loss: 0.2066 - accuracy: 0.9232 - val_loss: 0.4547 - val_accuracy: 0.8756\n",
      "Epoch 33/50\n",
      "1875/1875 [==============================] - 6s 3ms/step - loss: 0.2105 - accuracy: 0.9218 - val_loss: 0.4621 - val_accuracy: 0.8786\n",
      "Epoch 34/50\n",
      "1875/1875 [==============================] - 7s 4ms/step - loss: 0.2036 - accuracy: 0.9233 - val_loss: 0.4195 - val_accuracy: 0.8825\n",
      "Epoch 35/50\n",
      "1875/1875 [==============================] - 7s 4ms/step - loss: 0.2032 - accuracy: 0.9232 - val_loss: 0.4525 - val_accuracy: 0.8842\n",
      "Epoch 36/50\n",
      "1875/1875 [==============================] - 7s 4ms/step - loss: 0.2056 - accuracy: 0.9227 - val_loss: 0.4428 - val_accuracy: 0.8813\n",
      "Epoch 37/50\n",
      "1875/1875 [==============================] - 6s 3ms/step - loss: 0.1980 - accuracy: 0.9252 - val_loss: 0.4336 - val_accuracy: 0.8836\n",
      "Epoch 38/50\n",
      "1875/1875 [==============================] - 5s 3ms/step - loss: 0.1992 - accuracy: 0.9251 - val_loss: 0.4451 - val_accuracy: 0.8760\n",
      "Epoch 39/50\n",
      "1875/1875 [==============================] - 5s 3ms/step - loss: 0.1973 - accuracy: 0.9259 - val_loss: 0.4807 - val_accuracy: 0.8790\n",
      "Epoch 40/50\n",
      "1875/1875 [==============================] - 5s 3ms/step - loss: 0.1964 - accuracy: 0.9269 - val_loss: 0.4866 - val_accuracy: 0.8798\n",
      "Epoch 41/50\n",
      "1875/1875 [==============================] - 6s 3ms/step - loss: 0.1912 - accuracy: 0.9276 - val_loss: 0.5121 - val_accuracy: 0.8774\n",
      "Epoch 42/50\n",
      "1875/1875 [==============================] - 6s 3ms/step - loss: 0.1909 - accuracy: 0.9277 - val_loss: 0.5162 - val_accuracy: 0.8794\n",
      "Epoch 43/50\n",
      "1875/1875 [==============================] - 6s 3ms/step - loss: 0.1917 - accuracy: 0.9294 - val_loss: 0.4844 - val_accuracy: 0.8833\n",
      "Epoch 44/50\n",
      "1875/1875 [==============================] - 6s 3ms/step - loss: 0.1869 - accuracy: 0.9293 - val_loss: 0.5122 - val_accuracy: 0.8794\n",
      "Epoch 45/50\n",
      "1875/1875 [==============================] - 7s 4ms/step - loss: 0.1912 - accuracy: 0.9280 - val_loss: 0.5196 - val_accuracy: 0.8768\n",
      "Epoch 46/50\n",
      "1875/1875 [==============================] - 7s 4ms/step - loss: 0.1844 - accuracy: 0.9313 - val_loss: 0.5440 - val_accuracy: 0.8816\n",
      "Epoch 47/50\n",
      "1875/1875 [==============================] - 6s 3ms/step - loss: 0.1848 - accuracy: 0.9312 - val_loss: 0.5004 - val_accuracy: 0.8834\n",
      "Epoch 48/50\n",
      "1875/1875 [==============================] - 6s 3ms/step - loss: 0.1868 - accuracy: 0.9305 - val_loss: 0.5499 - val_accuracy: 0.8817\n",
      "Epoch 49/50\n",
      "1875/1875 [==============================] - 5s 3ms/step - loss: 0.1867 - accuracy: 0.9301 - val_loss: 0.4636 - val_accuracy: 0.8825\n",
      "Epoch 50/50\n",
      "1875/1875 [==============================] - 5s 3ms/step - loss: 0.1760 - accuracy: 0.9324 - val_loss: 0.5584 - val_accuracy: 0.8805\n"
     ]
    }
   ],
   "source": [
    "dropout_history = dropout_model.fit(train_ds, validation_data=test_ds, epochs=EPOCHS) #history에 저장하므로써 이 정보를 토대로 matplot으로 visualization 가능"
   ]
  },
  {
   "cell_type": "code",
   "execution_count": 40,
   "metadata": {},
   "outputs": [
    {
     "data": {
      "text/plain": [
       "Text(0.5, 1.0, 'Training and Validation Loss Using Dropout Method')"
      ]
     },
     "execution_count": 40,
     "metadata": {},
     "output_type": "execute_result"
    },
    {
     "data": {
      "image/png": "[encoded data removed]",
      "text/plain": [
       "<Figure size 432x288 with 1 Axes>"
      ]
     },
     "metadata": {
      "needs_background": "light"
     },
     "output_type": "display_data"
    }
   ],
   "source": [
    "loss=dropout_history.history['loss']\n",
    "val_loss=dropout_history.history['val_loss']\n",
    "\n",
    "plt.figure()\n",
    "plt.plot(loss,'ro-') # r->read o->circle points - ->point connected with lines\n",
    "plt.plot(val_loss,'bo-')\n",
    "plt.ylabel('Cross Entropy')\n",
    "plt.xlabel('Epoch')\n",
    "plt.title('Training and Validation Loss Using Dropout Method')"
   ]
  },
  {
   "cell_type": "markdown",
   "metadata": {},
   "source": [
    "## Dropout + Early Stopping"
   ]
  },
  {
   "cell_type": "code",
   "execution_count": 41,
   "metadata": {
    "scrolled": true
   },
   "outputs": [
    {
     "name": "stdout",
     "output_type": "stream",
     "text": [
      "Train for 1875 steps, validate for 313 steps\n",
      "Epoch 1/50\n",
      "1875/1875 [==============================] - 5s 3ms/step - loss: 0.1811 - accuracy: 0.9313 - val_loss: 0.5461 - val_accuracy: 0.8810\n",
      "Epoch 2/50\n",
      "1875/1875 [==============================] - 6s 3ms/step - loss: 0.1787 - accuracy: 0.9313 - val_loss: 0.5604 - val_accuracy: 0.8772\n",
      "Epoch 3/50\n",
      "1875/1875 [==============================] - 6s 3ms/step - loss: 0.1762 - accuracy: 0.9332 - val_loss: 0.5607 - val_accuracy: 0.8856\n",
      "Epoch 4/50\n",
      "1875/1875 [==============================] - 6s 3ms/step - loss: 0.1768 - accuracy: 0.9330 - val_loss: 0.5160 - val_accuracy: 0.8791\n",
      "Epoch 5/50\n",
      "1875/1875 [==============================] - 6s 3ms/step - loss: 0.1705 - accuracy: 0.9344 - val_loss: 0.5738 - val_accuracy: 0.8802\n",
      "Epoch 6/50\n",
      "1875/1875 [==============================] - 7s 4ms/step - loss: 0.1752 - accuracy: 0.9343 - val_loss: 0.5828 - val_accuracy: 0.8823\n",
      "Epoch 7/50\n",
      "1875/1875 [==============================] - 7s 4ms/step - loss: 0.1706 - accuracy: 0.9350 - val_loss: 0.5740 - val_accuracy: 0.8807\n",
      "Epoch 8/50\n",
      "1875/1875 [==============================] - 6s 3ms/step - loss: 0.1702 - accuracy: 0.9348 - val_loss: 0.5437 - val_accuracy: 0.8800\n",
      "Epoch 9/50\n",
      "1875/1875 [==============================] - 6s 3ms/step - loss: 0.1705 - accuracy: 0.9351 - val_loss: 0.5564 - val_accuracy: 0.8794\n",
      "Epoch 10/50\n",
      "1875/1875 [==============================] - 6s 3ms/step - loss: 0.1663 - accuracy: 0.9366 - val_loss: 0.6126 - val_accuracy: 0.8795\n",
      "Epoch 11/50\n",
      "1875/1875 [==============================] - 5s 3ms/step - loss: 0.1690 - accuracy: 0.9361 - val_loss: 0.5688 - val_accuracy: 0.8818\n",
      "Epoch 12/50\n",
      "1875/1875 [==============================] - 6s 3ms/step - loss: 0.1705 - accuracy: 0.9357 - val_loss: 0.5631 - val_accuracy: 0.8826\n",
      "Epoch 13/50\n",
      "1875/1875 [==============================] - 6s 3ms/step - loss: 0.1616 - accuracy: 0.9373 - val_loss: 0.6017 - val_accuracy: 0.8803\n",
      "Epoch 14/50\n",
      "1875/1875 [==============================] - 6s 3ms/step - loss: 0.1725 - accuracy: 0.9366 - val_loss: 0.5651 - val_accuracy: 0.8815\n",
      "Epoch 00014: early stopping\n"
     ]
    }
   ],
   "source": [
    "earlystop_dropout_history = dropout_model.fit(train_ds, validation_data=test_ds, epochs=EPOCHS,callbacks=[early_stopper]) #history에 저장하므로써 이 정보를 토대로 matplot으로 visualization 가능"
   ]
  },
  {
   "cell_type": "code",
   "execution_count": 42,
   "metadata": {
    "scrolled": true
   },
   "outputs": [
    {
     "data": {
      "text/plain": [
       "Text(0.5, 1.0, 'Training and Validation Loss Using Dropout(64) and Early Stopping Method')"
      ]
     },
     "execution_count": 42,
     "metadata": {},
     "output_type": "execute_result"
    },
    {
     "data": {
      "image/png": "[encoded data removed]",
      "text/plain": [
       "<Figure size 432x288 with 1 Axes>"
      ]
     },
     "metadata": {
      "needs_background": "light"
     },
     "output_type": "display_data"
    }
   ],
   "source": [
    "loss=earlystop_dropout_history.history['loss']\n",
    "val_loss=earlystop_dropout_history.history['val_loss']\n",
    "\n",
    "plt.figure()\n",
    "plt.plot(loss,'ro-') # r->read o->circle points - ->point connected with lines\n",
    "plt.plot(val_loss,'bo-')\n",
    "plt.ylabel('Cross Entropy')\n",
    "plt.xlabel('Epoch')\n",
    "plt.title('Training and Validation Loss Using Dropout(64) and Early Stopping Method')"
   ]
  },
  {
   "cell_type": "code",
   "execution_count": 43,
   "metadata": {},
   "outputs": [],
   "source": [
    "class MyDropoutModel(tf.keras.Model):\n",
    "    def __init__(self):\n",
    "        super(MyDropoutModel, self).__init__()\n",
    "        self.flatten = tf.keras.layers.Flatten()                       # 28x28 = 784\n",
    "        self.dense1 = tf.keras.layers.Dense(64, activation='relu')\n",
    "        self.dense2 = tf.keras.layers.Dense(64, activation='relu')\n",
    "        self.dense3 = tf.keras.layers.Dense(64, activation='relu')\n",
    "        self.dense4 = tf.keras.layers.Dense(128, activation='relu')\n",
    "        self.dropout4=tf.keras.layers.Dropout(0.5)\n",
    "        self.dense5 = tf.keras.layers.Dense(10, activation='softmax')  # 10\n",
    "\n",
    "    def call(self, x, training=False, mask=None):\n",
    "        h = self.flatten(x)\n",
    "        h = self.dense1(h)\n",
    "        h = self.dense2(h)\n",
    "        h = self.dense3(h)\n",
    "        h = self.dense4(h)\n",
    "        h=self.dropout4(h)\n",
    "        return self.dense5(h)"
   ]
  },
  {
   "cell_type": "code",
   "execution_count": 44,
   "metadata": {},
   "outputs": [],
   "source": [
    "dropout_model = MyDropoutModel()\n",
    "\n",
    "dropout_model.compile(optimizer='adam',\n",
    "              loss='sparse_categorical_crossentropy',\n",
    "              metrics=['accuracy'])"
   ]
  },
  {
   "cell_type": "code",
   "execution_count": 45,
   "metadata": {},
   "outputs": [
    {
     "name": "stdout",
     "output_type": "stream",
     "text": [
      "Train for 1875 steps, validate for 313 steps\n",
      "Epoch 1/50\n",
      "1875/1875 [==============================] - 7s 4ms/step - loss: 0.5938 - accuracy: 0.7863 - val_loss: 0.4539 - val_accuracy: 0.8329\n",
      "Epoch 2/50\n",
      "1875/1875 [==============================] - 7s 4ms/step - loss: 0.4152 - accuracy: 0.8518 - val_loss: 0.4031 - val_accuracy: 0.8544\n",
      "Epoch 3/50\n",
      "1875/1875 [==============================] - 7s 4ms/step - loss: 0.3772 - accuracy: 0.8646 - val_loss: 0.3840 - val_accuracy: 0.8638\n",
      "Epoch 4/50\n",
      "1875/1875 [==============================] - 6s 3ms/step - loss: 0.3540 - accuracy: 0.8726 - val_loss: 0.3722 - val_accuracy: 0.8680\n",
      "Epoch 5/50\n",
      "1875/1875 [==============================] - 6s 3ms/step - loss: 0.3366 - accuracy: 0.8788 - val_loss: 0.3563 - val_accuracy: 0.8743\n",
      "Epoch 6/50\n",
      "1875/1875 [==============================] - 6s 3ms/step - loss: 0.3200 - accuracy: 0.8837 - val_loss: 0.3576 - val_accuracy: 0.8725\n",
      "Epoch 7/50\n",
      "1875/1875 [==============================] - 6s 3ms/step - loss: 0.3106 - accuracy: 0.8871 - val_loss: 0.3707 - val_accuracy: 0.8693\n",
      "Epoch 8/50\n",
      "1875/1875 [==============================] - 6s 3ms/step - loss: 0.3031 - accuracy: 0.8897 - val_loss: 0.3655 - val_accuracy: 0.8734\n",
      "Epoch 9/50\n",
      "1875/1875 [==============================] - 6s 3ms/step - loss: 0.2911 - accuracy: 0.8929 - val_loss: 0.3657 - val_accuracy: 0.8616\n",
      "Epoch 10/50\n",
      "1875/1875 [==============================] - 7s 3ms/step - loss: 0.2835 - accuracy: 0.8961 - val_loss: 0.3598 - val_accuracy: 0.8764\n",
      "Epoch 11/50\n",
      "1875/1875 [==============================] - 7s 3ms/step - loss: 0.2728 - accuracy: 0.8985 - val_loss: 0.3802 - val_accuracy: 0.8596\n",
      "Epoch 12/50\n",
      "1875/1875 [==============================] - 6s 3ms/step - loss: 0.2681 - accuracy: 0.9010 - val_loss: 0.3592 - val_accuracy: 0.8806\n",
      "Epoch 13/50\n",
      "1875/1875 [==============================] - 6s 3ms/step - loss: 0.2632 - accuracy: 0.9031 - val_loss: 0.3473 - val_accuracy: 0.8856\n",
      "Epoch 14/50\n",
      "1875/1875 [==============================] - 6s 3ms/step - loss: 0.2578 - accuracy: 0.9060 - val_loss: 0.3535 - val_accuracy: 0.8764\n",
      "Epoch 15/50\n",
      "1875/1875 [==============================] - 6s 3ms/step - loss: 0.2533 - accuracy: 0.9060 - val_loss: 0.3614 - val_accuracy: 0.8741\n",
      "Epoch 16/50\n",
      "1875/1875 [==============================] - 6s 3ms/step - loss: 0.2463 - accuracy: 0.9084 - val_loss: 0.3701 - val_accuracy: 0.8725\n",
      "Epoch 17/50\n",
      "1875/1875 [==============================] - 6s 3ms/step - loss: 0.2421 - accuracy: 0.9108 - val_loss: 0.3613 - val_accuracy: 0.8830\n",
      "Epoch 18/50\n",
      "1875/1875 [==============================] - 7s 4ms/step - loss: 0.2387 - accuracy: 0.9130 - val_loss: 0.3813 - val_accuracy: 0.8821\n",
      "Epoch 19/50\n",
      "1875/1875 [==============================] - 7s 4ms/step - loss: 0.2358 - accuracy: 0.9133 - val_loss: 0.3699 - val_accuracy: 0.8821\n",
      "Epoch 20/50\n",
      "1875/1875 [==============================] - 7s 4ms/step - loss: 0.2302 - accuracy: 0.9147 - val_loss: 0.3719 - val_accuracy: 0.8847\n",
      "Epoch 21/50\n",
      "1875/1875 [==============================] - 6s 3ms/step - loss: 0.2280 - accuracy: 0.9144 - val_loss: 0.3777 - val_accuracy: 0.8828\n",
      "Epoch 22/50\n",
      "1875/1875 [==============================] - 6s 3ms/step - loss: 0.2222 - accuracy: 0.9174 - val_loss: 0.3642 - val_accuracy: 0.8849\n",
      "Epoch 23/50\n",
      "1875/1875 [==============================] - 6s 3ms/step - loss: 0.2224 - accuracy: 0.9164 - val_loss: 0.4084 - val_accuracy: 0.8750\n",
      "Epoch 00023: early stopping\n"
     ]
    }
   ],
   "source": [
    "earlystop_dropout_history = dropout_model.fit(train_ds, validation_data=test_ds, epochs=EPOCHS,callbacks=[early_stopper]) #history에 저장하므로써 이 정보를 토대로 matplot으로 visualization 가능"
   ]
  },
  {
   "cell_type": "code",
   "execution_count": 46,
   "metadata": {},
   "outputs": [
    {
     "data": {
      "text/plain": [
       "Text(0.5, 1.0, 'Training and Validation Loss Using Dropout(128) and Early Stopping Method')"
      ]
     },
     "execution_count": 46,
     "metadata": {},
     "output_type": "execute_result"
    },
    {
     "data": {
      "image/png": "[encoded data removed]",
      "text/plain": [
       "<Figure size 432x288 with 1 Axes>"
      ]
     },
     "metadata": {
      "needs_background": "light"
     },
     "output_type": "display_data"
    }
   ],
   "source": [
    "loss=earlystop_dropout_history.history['loss']\n",
    "val_loss=earlystop_dropout_history.history['val_loss']\n",
    "\n",
    "plt.figure()\n",
    "plt.plot(loss,'ro-') # r->read o->circle points - ->point connected with lines\n",
    "plt.plot(val_loss,'bo-')\n",
    "plt.ylabel('Cross Entropy')\n",
    "plt.xlabel('Epoch')\n",
    "plt.title('Training and Validation Loss Using Dropout(128) and Early Stopping Method')"
   ]
  },
  {
   "cell_type": "code",
   "execution_count": null,
   "metadata": {},
   "outputs": [],
   "source": []
  }
 ],
 "metadata": {
  "kernelspec": {
   "display_name": "Python 3",
   "language": "python",
   "name": "python3"
  },
  "language_info": {
   "codemirror_mode": {
    "name": "ipython",
    "version": 3
   },
   "file_extension": ".py",
   "mimetype": "text/x-python",
   "name": "python",
   "nbconvert_exporter": "python",
   "pygments_lexer": "ipython3",
   "version": "3.7.7"
  }
 },
 "nbformat": 4,
 "nbformat_minor": 2
}
