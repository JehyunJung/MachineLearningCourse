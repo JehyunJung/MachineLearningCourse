{
 "cells": [
  {
   "cell_type": "markdown",
   "metadata": {},
   "source": [
    "# CNN 학습 실습"
   ]
  },
  {
   "cell_type": "markdown",
   "metadata": {},
   "source": [
    "## Import modules"
   ]
  },
  {
   "cell_type": "code",
   "execution_count": 24,
   "metadata": {},
   "outputs": [],
   "source": [
    "import tensorflow as tf\n",
    "import numpy as np\n",
    "from tensorflow.keras.layers import Conv2D,MaxPool2D,Flatten,Dense,Dropout #Convolution , pooling,  Flatten\n",
    "from tensorflow.keras.models import Sequential\n",
    "import matplotlib.pyplot as plt"
   ]
  },
  {
   "cell_type": "markdown",
   "metadata": {},
   "source": [
    "## 하이퍼파라미터 정의"
   ]
  },
  {
   "cell_type": "code",
   "execution_count": 9,
   "metadata": {},
   "outputs": [],
   "source": [
    "EPOCHS = 10"
   ]
  },
  {
   "cell_type": "markdown",
   "metadata": {},
   "source": [
    "## 네트워크 구조 정의"
   ]
  },
  {
   "cell_type": "code",
   "execution_count": 10,
   "metadata": {},
   "outputs": [],
   "source": [
    "#keras의 sequential 방식을 활용해서 CNN 구현 가능\n",
    "def MyModel():\n",
    "    return Sequential([Conv2D(32,(3,3),padding='same',activation='relu'), #28*28*32\n",
    "                       MaxPool2D(),                                        #14*14*32\n",
    "                       Conv2D(64,(3,3),padding='same',activation='relu'),  #14*14*64 \n",
    "                       MaxPool2D(),                                        #7*7*64\n",
    "                       Conv2D(128,(3,3),padding='same',activation='relu'), #7*7*128\n",
    "                       Flatten(),                                          #6272\n",
    "                       Dense(128,activation='relu'),                       #128\n",
    "                       Dense(10,activation='softmax')])                    #10\n",
    "#각각의 kernel 개수 및 kernel size\n",
    "#padding : same -> zero padding , valid: no zero padding\n",
    "    "
   ]
  },
  {
   "cell_type": "markdown",
   "metadata": {},
   "source": [
    "## 데이터 불러오기"
   ]
  },
  {
   "cell_type": "code",
   "execution_count": 11,
   "metadata": {},
   "outputs": [],
   "source": [
    "fashion_mnist = tf.keras.datasets.fashion_mnist\n",
    "\n",
    "(x_train, y_train), (x_test, y_test) = fashion_mnist.load_data()\n",
    "x_train, x_test = x_train / 255.0, x_test / 255.0\n",
    "\n",
    "x_train = x_train.astype(np.float32)\n",
    "x_test = x_test.astype(np.float32) \n",
    "\n",
    "x_train=x_train[...,np.newaxis] #... represents all of the elements\n",
    "x_test=x_test[...,np.newaxis]\n",
    "\n",
    "# N * H * W * C 인 형태의 dataset을 만들어줘야한다.\n",
    "\n",
    "train_ds = tf.data.Dataset.from_tensor_slices((x_train, y_train)).shuffle(10000).batch(32).prefetch(2048)\n",
    "test_ds = tf.data.Dataset.from_tensor_slices((x_test, y_test)).batch(32).prefetch(2048)"
   ]
  },
  {
   "cell_type": "code",
   "execution_count": 12,
   "metadata": {},
   "outputs": [
    {
     "name": "stdout",
     "output_type": "stream",
     "text": [
      "(60000, 28, 28, 1)\n",
      "(28, 28, 1)\n"
     ]
    }
   ],
   "source": [
    "print(x_train.shape)\n",
    "print(x_train[0].shape)"
   ]
  },
  {
   "cell_type": "markdown",
   "metadata": {},
   "source": [
    "## 모델 생성"
   ]
  },
  {
   "cell_type": "code",
   "execution_count": 13,
   "metadata": {},
   "outputs": [],
   "source": [
    "model = MyModel()\n",
    "\n",
    "model.compile(optimizer='adam',\n",
    "              loss='sparse_categorical_crossentropy',\n",
    "              metrics=['accuracy'])"
   ]
  },
  {
   "cell_type": "markdown",
   "metadata": {},
   "source": [
    "## 모델 학습"
   ]
  },
  {
   "cell_type": "code",
   "execution_count": 14,
   "metadata": {
    "scrolled": false
   },
   "outputs": [
    {
     "name": "stdout",
     "output_type": "stream",
     "text": [
      "Train for 1875 steps, validate for 313 steps\n",
      "Epoch 1/10\n",
      "1875/1875 [==============================] - 94s 50ms/step - loss: 0.3819 - accuracy: 0.8600 - val_loss: 0.2857 - val_accuracy: 0.8974\n",
      "Epoch 2/10\n",
      "1875/1875 [==============================] - 82s 44ms/step - loss: 0.2472 - accuracy: 0.9089 - val_loss: 0.2576 - val_accuracy: 0.9037\n",
      "Epoch 3/10\n",
      "1875/1875 [==============================] - 74s 39ms/step - loss: 0.2052 - accuracy: 0.9236 - val_loss: 0.2534 - val_accuracy: 0.9073\n",
      "Epoch 4/10\n",
      "1875/1875 [==============================] - 73s 39ms/step - loss: 0.1702 - accuracy: 0.9361 - val_loss: 0.2440 - val_accuracy: 0.9132\n",
      "Epoch 5/10\n",
      "1875/1875 [==============================] - 72s 38ms/step - loss: 0.1412 - accuracy: 0.9472 - val_loss: 0.2394 - val_accuracy: 0.9168\n",
      "Epoch 6/10\n",
      "1875/1875 [==============================] - 72s 39ms/step - loss: 0.1147 - accuracy: 0.9565 - val_loss: 0.2622 - val_accuracy: 0.9183\n",
      "Epoch 7/10\n",
      "1875/1875 [==============================] - 73s 39ms/step - loss: 0.0919 - accuracy: 0.9649 - val_loss: 0.2957 - val_accuracy: 0.9159\n",
      "Epoch 8/10\n",
      "1875/1875 [==============================] - 73s 39ms/step - loss: 0.0776 - accuracy: 0.9704 - val_loss: 0.3467 - val_accuracy: 0.9136\n",
      "Epoch 9/10\n",
      "1875/1875 [==============================] - 72s 39ms/step - loss: 0.0646 - accuracy: 0.9751 - val_loss: 0.3283 - val_accuracy: 0.9214\n",
      "Epoch 10/10\n",
      "1875/1875 [==============================] - 74s 39ms/step - loss: 0.0554 - accuracy: 0.9796 - val_loss: 0.3764 - val_accuracy: 0.9191\n"
     ]
    }
   ],
   "source": [
    "history=model.fit(train_ds, validation_data=test_ds, epochs=EPOCHS)"
   ]
  },
  {
   "cell_type": "code",
   "execution_count": 18,
   "metadata": {
    "scrolled": true
   },
   "outputs": [
    {
     "data": {
      "text/plain": [
       "Text(0.5, 1.0, 'Training and Validation Loss')"
      ]
     },
     "execution_count": 18,
     "metadata": {},
     "output_type": "execute_result"
    },
    {
     "data": {
      "image/png": "[encoded data removed]",
      "text/plain": [
       "<Figure size 432x288 with 1 Axes>"
      ]
     },
     "metadata": {
      "needs_background": "light"
     },
     "output_type": "display_data"
    }
   ],
   "source": [
    "loss=history.history['loss']\n",
    "val_loss=history.history['val_loss']\n",
    "\n",
    "plt.figure()\n",
    "plt.plot(loss,'ro-') # r->read o->circle points - ->point connected with lines\n",
    "plt.plot(val_loss,'bo-')\n",
    "plt.ylabel('Cross Entropy')\n",
    "plt.xlabel('Epoch')\n",
    "plt.title('Training and Validation Loss')"
   ]
  },
  {
   "cell_type": "code",
   "execution_count": null,
   "metadata": {},
   "outputs": [],
   "source": [
    "max(history.history['val_accuracy'])"
   ]
  },
  {
   "cell_type": "code",
   "execution_count": 21,
   "metadata": {},
   "outputs": [],
   "source": [
    "early_stopper=tf.keras.callbacks.EarlyStopping(monitor='val_loss',patience=5,verbose=1)"
   ]
  },
  {
   "cell_type": "code",
   "execution_count": 22,
   "metadata": {},
   "outputs": [
    {
     "name": "stdout",
     "output_type": "stream",
     "text": [
      "Train for 1875 steps, validate for 313 steps\n",
      "Epoch 1/10\n",
      "1875/1875 [==============================] - 77s 41ms/step - loss: 0.0325 - accuracy: 0.9883 - val_loss: 0.4632 - val_accuracy: 0.9195\n",
      "Epoch 2/10\n",
      "1875/1875 [==============================] - 73s 39ms/step - loss: 0.0308 - accuracy: 0.9888 - val_loss: 0.4702 - val_accuracy: 0.9184\n",
      "Epoch 3/10\n",
      "1875/1875 [==============================] - 73s 39ms/step - loss: 0.0299 - accuracy: 0.9890 - val_loss: 0.5323 - val_accuracy: 0.9201\n",
      "Epoch 4/10\n",
      "1875/1875 [==============================] - 73s 39ms/step - loss: 0.0272 - accuracy: 0.9908 - val_loss: 0.5717 - val_accuracy: 0.9183\n",
      "Epoch 5/10\n",
      "1875/1875 [==============================] - 73s 39ms/step - loss: 0.0260 - accuracy: 0.9911 - val_loss: 0.5783 - val_accuracy: 0.9155\n",
      "Epoch 6/10\n",
      "1875/1875 [==============================] - 74s 39ms/step - loss: 0.0276 - accuracy: 0.9906 - val_loss: 0.7087 - val_accuracy: 0.9160\n",
      "Epoch 00006: early stopping\n"
     ]
    }
   ],
   "source": [
    "history=model.fit(train_ds, validation_data=test_ds, epochs=EPOCHS,callbacks=[early_stopper])"
   ]
  },
  {
   "cell_type": "code",
   "execution_count": 33,
   "metadata": {
    "scrolled": true
   },
   "outputs": [
    {
     "data": {
      "text/plain": [
       "Text(0.5, 1.0, 'Training and Validation Loss With Early Stopping')"
      ]
     },
     "execution_count": 33,
     "metadata": {},
     "output_type": "execute_result"
    },
    {
     "data": {
      "image/png": "[encoded data removed]",
      "text/plain": [
       "<Figure size 432x288 with 1 Axes>"
      ]
     },
     "metadata": {
      "needs_background": "light"
     },
     "output_type": "display_data"
    }
   ],
   "source": [
    "loss=history.history['loss']\n",
    "val_loss=history.history['val_loss']\n",
    "\n",
    "plt.figure()\n",
    "plt.plot(loss,'ro-') # r->read o->circle points - ->point connected with lines\n",
    "plt.plot(val_loss,'bo-')\n",
    "plt.ylabel('Cross Entropy')\n",
    "plt.xlabel('Epoch')\n",
    "plt.legend([\"training_loss\",\"validation_loss\"],loc='upper left')\n",
    "plt.title('Training and Validation Loss With Early Stopping')"
   ]
  },
  {
   "cell_type": "code",
   "execution_count": null,
   "metadata": {},
   "outputs": [],
   "source": [
    "max(history.history['val_accuracy'])"
   ]
  },
  {
   "cell_type": "code",
   "execution_count": 35,
   "metadata": {},
   "outputs": [],
   "source": [
    "#keras의 sequential 방식을 활용해서 CNN 구현 가능\n",
    "def MyModel():\n",
    "    return Sequential([Conv2D(32,(3,3),padding='same',activation='relu'), #28*28*32\n",
    "                       MaxPool2D(),                                        #14*14*32\n",
    "                       Conv2D(64,(3,3),padding='same',activation='relu'),  #14*14*64 \n",
    "                       MaxPool2D(),                                        #7*7*64\n",
    "                       Conv2D(128,(3,3),padding='same',activation='relu'), #7*7*128\n",
    "                       Flatten(),                                          #6272\n",
    "                       Dense(128,activation='relu'),                       #128\n",
    "                       Dropout(0.5),\n",
    "                       Dense(10,activation='softmax')])                    #10\n",
    "#각각의 kernel 개수 및 kernel size\n",
    "#padding : same -> zero padding , valid: no zero padding"
   ]
  },
  {
   "cell_type": "code",
   "execution_count": 36,
   "metadata": {},
   "outputs": [],
   "source": [
    "model = MyModel()\n",
    "\n",
    "model.compile(optimizer='adam',\n",
    "              loss='sparse_categorical_crossentropy',\n",
    "              metrics=['accuracy'])"
   ]
  },
  {
   "cell_type": "code",
   "execution_count": 37,
   "metadata": {},
   "outputs": [
    {
     "name": "stdout",
     "output_type": "stream",
     "text": [
      "Train for 1875 steps, validate for 313 steps\n",
      "Epoch 1/10\n",
      "1875/1875 [==============================] - 73s 39ms/step - loss: 0.5145 - accuracy: 0.8175 - val_loss: 0.3316 - val_accuracy: 0.8804\n",
      "Epoch 2/10\n",
      "1875/1875 [==============================] - 73s 39ms/step - loss: 0.3242 - accuracy: 0.8857 - val_loss: 0.2830 - val_accuracy: 0.8947\n",
      "Epoch 3/10\n",
      "1875/1875 [==============================] - 73s 39ms/step - loss: 0.2719 - accuracy: 0.9029 - val_loss: 0.2600 - val_accuracy: 0.9047\n",
      "Epoch 4/10\n",
      "1875/1875 [==============================] - 74s 39ms/step - loss: 0.2378 - accuracy: 0.9146 - val_loss: 0.2474 - val_accuracy: 0.9139\n",
      "Epoch 5/10\n",
      "1875/1875 [==============================] - 73s 39ms/step - loss: 0.2121 - accuracy: 0.9231 - val_loss: 0.2478 - val_accuracy: 0.9116\n",
      "Epoch 6/10\n",
      "1875/1875 [==============================] - 73s 39ms/step - loss: 0.1889 - accuracy: 0.9305 - val_loss: 0.2253 - val_accuracy: 0.9213\n",
      "Epoch 7/10\n",
      "1875/1875 [==============================] - 73s 39ms/step - loss: 0.1704 - accuracy: 0.9365 - val_loss: 0.2340 - val_accuracy: 0.9207\n",
      "Epoch 8/10\n",
      "1875/1875 [==============================] - 74s 39ms/step - loss: 0.1535 - accuracy: 0.9429 - val_loss: 0.2401 - val_accuracy: 0.9248\n",
      "Epoch 9/10\n",
      "1875/1875 [==============================] - 73s 39ms/step - loss: 0.1403 - accuracy: 0.9489 - val_loss: 0.2585 - val_accuracy: 0.9214\n",
      "Epoch 10/10\n",
      "1875/1875 [==============================] - 73s 39ms/step - loss: 0.1277 - accuracy: 0.9525 - val_loss: 0.2507 - val_accuracy: 0.9172\n"
     ]
    }
   ],
   "source": [
    "history=model.fit(train_ds, validation_data=test_ds, epochs=EPOCHS)"
   ]
  },
  {
   "cell_type": "code",
   "execution_count": 45,
   "metadata": {
    "scrolled": true
   },
   "outputs": [
    {
     "data": {
      "text/plain": [
       "Text(0.5, 1.0, 'Training and Validation Loss With Dropout')"
      ]
     },
     "execution_count": 45,
     "metadata": {},
     "output_type": "execute_result"
    },
    {
     "data": {
      "image/png": "[encoded data removed]",
      "text/plain": [
       "<Figure size 432x288 with 1 Axes>"
      ]
     },
     "metadata": {
      "needs_background": "light"
     },
     "output_type": "display_data"
    }
   ],
   "source": [
    "loss=history.history['loss']\n",
    "val_loss=history.history['val_loss']\n",
    "\n",
    "plt.figure()\n",
    "plt.plot(loss,'ro-') # r->read o->circle points - ->point connected with lines\n",
    "plt.plot(val_loss,'bo-')\n",
    "plt.ylabel('Cross Entropy')\n",
    "plt.xlabel('Epoch')\n",
    "plt.legend([\"training_loss\",\"validation_loss\"],loc='upper left')\n",
    "plt.title('Training and Validation Loss With Dropout')b"
   ]
  },
  {
   "cell_type": "code",
   "execution_count": 50,
   "metadata": {},
   "outputs": [
    {
     "data": {
      "text/plain": [
       "0.9248"
      ]
     },
     "execution_count": 50,
     "metadata": {},
     "output_type": "execute_result"
    }
   ],
   "source": [
    "max(history.history['val_accuracy'])"
   ]
  },
  {
   "cell_type": "code",
   "execution_count": 51,
   "metadata": {},
   "outputs": [
    {
     "name": "stdout",
     "output_type": "stream",
     "text": [
      "Train for 1875 steps, validate for 313 steps\n",
      "Epoch 1/10\n",
      "1875/1875 [==============================] - 71s 38ms/step - loss: 0.1183 - accuracy: 0.9559 - val_loss: 0.2878 - val_accuracy: 0.9188\n",
      "Epoch 2/10\n",
      "1875/1875 [==============================] - 72s 39ms/step - loss: 0.1083 - accuracy: 0.9591 - val_loss: 0.2662 - val_accuracy: 0.9241\n",
      "Epoch 3/10\n",
      "1875/1875 [==============================] - 72s 38ms/step - loss: 0.1004 - accuracy: 0.9620 - val_loss: 0.2854 - val_accuracy: 0.9229\n",
      "Epoch 4/10\n",
      "1875/1875 [==============================] - 72s 39ms/step - loss: 0.0953 - accuracy: 0.9638 - val_loss: 0.2922 - val_accuracy: 0.9203\n",
      "Epoch 5/10\n",
      "1875/1875 [==============================] - 72s 39ms/step - loss: 0.0872 - accuracy: 0.9670 - val_loss: 0.3235 - val_accuracy: 0.9227\n",
      "Epoch 6/10\n",
      "1875/1875 [==============================] - 75s 40ms/step - loss: 0.0852 - accuracy: 0.9689 - val_loss: 0.3312 - val_accuracy: 0.9252\n",
      "Epoch 7/10\n",
      "1875/1875 [==============================] - 73s 39ms/step - loss: 0.0752 - accuracy: 0.9714 - val_loss: 0.3659 - val_accuracy: 0.9231\n",
      "Epoch 00007: early stopping\n"
     ]
    }
   ],
   "source": [
    "history=model.fit(train_ds, validation_data=test_ds, epochs=EPOCHS,callbacks=[early_stopper])"
   ]
  },
  {
   "cell_type": "code",
   "execution_count": 52,
   "metadata": {},
   "outputs": [
    {
     "data": {
      "text/plain": [
       "Text(0.5, 1.0, 'Training and Validation Loss With Early Stopping + Dropout')"
      ]
     },
     "execution_count": 52,
     "metadata": {},
     "output_type": "execute_result"
    },
    {
     "data": {
      "image/png": "[encoded data removed]",
      "text/plain": [
       "<Figure size 432x288 with 1 Axes>"
      ]
     },
     "metadata": {
      "needs_background": "light"
     },
     "output_type": "display_data"
    }
   ],
   "source": [
    "loss=history.history['loss']\n",
    "val_loss=history.history['val_loss']\n",
    "\n",
    "plt.figure()\n",
    "plt.plot(loss,'ro-') # r->read o->circle points - ->point connected with lines\n",
    "plt.plot(val_loss,'bo-')\n",
    "plt.ylabel('Cross Entropy')\n",
    "plt.xlabel('Epoch')\n",
    "plt.legend([\"training_loss\",\"validation_loss\"],loc='upper left')\n",
    "plt.title('Training and Validation Loss With Early Stopping + Dropout')"
   ]
  },
  {
   "cell_type": "code",
   "execution_count": 53,
   "metadata": {},
   "outputs": [
    {
     "data": {
      "text/plain": [
       "0.9252"
      ]
     },
     "execution_count": 53,
     "metadata": {},
     "output_type": "execute_result"
    }
   ],
   "source": [
    "max(history.history['val_accuracy'])"
   ]
  }
 ],
 "metadata": {
  "kernelspec": {
   "display_name": "Python 3",
   "language": "python",
   "name": "python3"
  },
  "language_info": {
   "codemirror_mode": {
    "name": "ipython",
    "version": 3
   },
   "file_extension": ".py",
   "mimetype": "text/x-python",
   "name": "python",
   "nbconvert_exporter": "python",
   "pygments_lexer": "ipython3",
   "version": "3.7.7"
  }
 },
 "nbformat": 4,
 "nbformat_minor": 2
}
