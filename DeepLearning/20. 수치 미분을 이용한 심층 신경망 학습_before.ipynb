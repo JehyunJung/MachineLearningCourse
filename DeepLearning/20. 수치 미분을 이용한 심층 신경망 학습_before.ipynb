{
 "cells": [
  {
   "cell_type": "markdown",
   "metadata": {},
   "source": [
    "## 수치 미분을 이용한 심층 신경망 학습"
   ]
  },
  {
   "cell_type": "markdown",
   "metadata": {},
   "source": [
    "## Import modules"
   ]
  },
  {
   "cell_type": "code",
   "execution_count": 3,
   "metadata": {},
   "outputs": [],
   "source": [
    "import time\n",
    "import numpy as np"
   ]
  },
  {
   "cell_type": "markdown",
   "metadata": {},
   "source": [
    "## 유틸리티 함수"
   ]
  },
  {
   "cell_type": "code",
   "execution_count": 4,
   "metadata": {},
   "outputs": [],
   "source": [
    "epsilon = 0.0001\n",
    "\n",
    "def _t(x):\n",
    "    return np.transpose(x)\n",
    "\n",
    "def _m(A, B):\n",
    "    return np.matmul(A, B)\n",
    "\n",
    "def sigmoid(x):\n",
    "    return 1 / (1 + np.exp(-x))\n",
    "\n",
    "def mean_squared_error(h, y):\n",
    "    return 1 / 2 * np.mean(np.square(h - y))"
   ]
  },
  {
   "cell_type": "markdown",
   "metadata": {},
   "source": [
    "## Dense Layer 구현"
   ]
  },
  {
   "cell_type": "code",
   "execution_count": 22,
   "metadata": {},
   "outputs": [],
   "source": [
    "class Dense:\n",
    "    def __init__(self, W, b, a):\n",
    "        self.W=W\n",
    "        self.b=b\n",
    "        self.a=a\n",
    "        \n",
    "        self.dW=np.zeros_like(self.W) #np.zeros_like 함수를 이용해서 입력받은 W와 크기가 동일한 배열을 초기화\n",
    "        self.db=np.zeros_like(self.b)\n",
    "        \n",
    "\n",
    "    def __call__(self, x):\n",
    "        return self.a(_m(_t(self.W),x)+self.b)  #matrix의 multiplication을 위해서 transpose 된 행렬을 이용"
   ]
  },
  {
   "cell_type": "markdown",
   "metadata": {},
   "source": [
    "## 심층신경망 구현"
   ]
  },
  {
   "cell_type": "code",
   "execution_count": 23,
   "metadata": {},
   "outputs": [],
   "source": [
    "class DNN:\n",
    "    def __init__(self, hidden_depth, num_neuron, num_input, num_output, activation=sigmoid):\n",
    "        def init_var(i, o):\n",
    "            return np.random.normal(0.0, 0.01, (i, o)), np.zeros((o,))#np.random.normal을 활용해, 정규분포 기반의 행렬 생성 (i,o) matrix\n",
    "\n",
    "        self.sequence = list()\n",
    "        # First hidden layer\n",
    "        W,b=init_var(num_input,num_neuron)\n",
    "        self.sequence.append(Dense(W,b,activation))\n",
    "        \n",
    "        # Hidden layers\n",
    "        for _ in range(hidden_depth-1):\n",
    "            W,b=init_var(num_neuron,num_neuron)\n",
    "            self.sequence.append(Dense(W,b,activation))\n",
    "\n",
    "        # Output layer\n",
    "        W,b=init_var(num_neuron,num_output)\n",
    "        self.sequence.append(Dense(W,b,activation))\n",
    "\n",
    "    def __call__(self, x):\n",
    "        for layer in self.sequence:\n",
    "            x = layer(x)\n",
    "        return x\n",
    "\n",
    "    def calc_gradient(self, x, y, loss_func):\n",
    "        def get_new_sequence(layer_index,new_layer): #새로운 sequence을 생성하는 함수\n",
    "            new_sequence=list()\n",
    "            for i,layer in enumerate(self.sequence):\n",
    "                if i== layer_index:\n",
    "                    new_sequence.append(new_layer)\n",
    "                else:\n",
    "                    new_sequence.append(layer)\n",
    "            return new_sequence\n",
    "        \n",
    "        def eval_sequence(x,sequence): #새로 만들어진 sequence에 대해 loss function을 평가하는 함수\n",
    "            for layer in sequence:\n",
    "                x=layer(x)\n",
    "            return x\n",
    "        \n",
    "        loss=loss_func(self(x),y) #첫번째 loss function을 구하게 됨\n",
    "        \n",
    "        for layer_id, layer in enumerate(self.sequence): #모든 layer에 대해서 모든 parameter에 대한 미분 진행 필요\n",
    "            for w_i , w in enumerate(layer.W): #weight에 대한 iteration\n",
    "                for w_j, ww in enumerate(w):\n",
    "                    W=np.copy(layer.W)\n",
    "                    W[w_i][w_j]=ww+epsilon #epsilon 만큼 옮긴 새로운 parameter\n",
    "                    \n",
    "                    new_layer=Dense(W,layer.b,layer.a)\n",
    "                    new_sequence=get_new_sequence(layer_id, new_layer)\n",
    "                    \n",
    "                    h=eval_sequence(x,new_sequence)\n",
    "                     \n",
    "                    #(f(x+eps)-f(x))/eps\n",
    "                    num_grad=(loss_func(h,y)-loss)/epsilon \n",
    "                    layer.dW[w_i][w_j]=num_grad  # 해당 위치에 바뀐 parameter 등록\n",
    "                    \n",
    "            for b_i , bb in enumerate(layer.b): #vector에 대한 iteration\n",
    "                b=np.copy(layer.b)\n",
    "                b[b_i]=bb+epsilon\n",
    "\n",
    "                new_layer=Dense(W,layer.b,layer.a)\n",
    "                new_sequence=get_new_sequence(layer_id, new_layer)\n",
    "\n",
    "                h=eval_sequence(x,new_sequence)\n",
    "\n",
    "                #(f(x+eps)-f(x))/eps\n",
    "                num_grad=(loss_func(h,y)-loss)/epsilon\n",
    "                layer.db[b_i]=num_grad\n",
    "                \n",
    "        return loss"
   ]
  },
  {
   "cell_type": "markdown",
   "metadata": {},
   "source": [
    "## 경사하강 학습법"
   ]
  },
  {
   "cell_type": "code",
   "execution_count": 24,
   "metadata": {},
   "outputs": [],
   "source": [
    "def gradient_descent(network, x, y, loss_obj, alpha=0.01):\n",
    "    loss = network.calc_gradient(x, y, loss_obj)\n",
    "    for layer in network.sequence:\n",
    "        layer.W += -alpha * layer.dW\n",
    "        layer.b += -alpha * layer.db\n",
    "    return loss"
   ]
  },
  {
   "cell_type": "markdown",
   "metadata": {},
   "source": [
    "## 동작 테스트"
   ]
  },
  {
   "cell_type": "code",
   "execution_count": 25,
   "metadata": {
    "scrolled": true
   },
   "outputs": [
    {
     "name": "stdout",
     "output_type": "stream",
     "text": [
      "Epoch 0: Test loss 0.3426225862698866\n",
      "Epoch 1: Test loss 0.34084309025406934\n",
      "Epoch 2: Test loss 0.3390729684121342\n",
      "Epoch 3: Test loss 0.33731230561137143\n",
      "Epoch 4: Test loss 0.33556118302499705\n",
      "Epoch 5: Test loss 0.3338196781478848\n",
      "Epoch 6: Test loss 0.332087864815246\n",
      "Epoch 7: Test loss 0.3303658132244467\n",
      "Epoch 8: Test loss 0.3286535899594526\n",
      "Epoch 9: Test loss 0.32695125801815317\n",
      "Epoch 10: Test loss 0.3252588768422475\n",
      "Epoch 11: Test loss 0.32357650234959756\n",
      "Epoch 12: Test loss 0.3219041869690821\n",
      "Epoch 13: Test loss 0.3202419796777387\n",
      "Epoch 14: Test loss 0.31858992603998976\n",
      "Epoch 15: Test loss 0.31694806824909416\n",
      "Epoch 16: Test loss 0.315316445170423\n",
      "Epoch 17: Test loss 0.31369509238667725\n",
      "Epoch 18: Test loss 0.3120840422448429\n",
      "Epoch 19: Test loss 0.3104833239047203\n",
      "Epoch 20: Test loss 0.3088929633890226\n",
      "Epoch 21: Test loss 0.3073129836348338\n",
      "Epoch 22: Test loss 0.30574340454644827\n",
      "Epoch 23: Test loss 0.30418424304929437\n",
      "Epoch 24: Test loss 0.30263551314506404\n",
      "Epoch 25: Test loss 0.30109722596774013\n",
      "Epoch 26: Test loss 0.2995693898405492\n",
      "Epoch 27: Test loss 0.2980520103337423\n",
      "Epoch 28: Test loss 0.2965450903229317\n",
      "Epoch 29: Test loss 0.2950486300481895\n",
      "Epoch 30: Test loss 0.2935626271735377\n",
      "Epoch 31: Test loss 0.2920870768468976\n",
      "Epoch 32: Test loss 0.2906219717603602\n",
      "Epoch 33: Test loss 0.28916730221070097\n",
      "Epoch 34: Test loss 0.2877230561600572\n",
      "Epoch 35: Test loss 0.2862892192967089\n",
      "Epoch 36: Test loss 0.28486577509586114\n",
      "Epoch 37: Test loss 0.2834527048803261\n",
      "Epoch 38: Test loss 0.28204998788116464\n",
      "Epoch 39: Test loss 0.2806576012980674\n",
      "Epoch 40: Test loss 0.2792755203594789\n",
      "Epoch 41: Test loss 0.2779037183824475\n",
      "Epoch 42: Test loss 0.2765421668320819\n",
      "Epoch 43: Test loss 0.27519083538054073\n",
      "Epoch 44: Test loss 0.2738496919656071\n",
      "Epoch 45: Test loss 0.2725187028487355\n",
      "Epoch 46: Test loss 0.271197832672433\n",
      "Epoch 47: Test loss 0.2698870445171644\n",
      "Epoch 48: Test loss 0.2685862999575137\n",
      "Epoch 49: Test loss 0.26729555911765934\n",
      "Epoch 50: Test loss 0.26601478072617507\n",
      "Epoch 51: Test loss 0.26474392217004405\n",
      "Epoch 52: Test loss 0.26348293954788143\n",
      "Epoch 53: Test loss 0.26223178772236705\n",
      "Epoch 54: Test loss 0.26099042037184744\n",
      "Epoch 55: Test loss 0.2597587900410315\n",
      "Epoch 56: Test loss 0.2585368481909084\n",
      "Epoch 57: Test loss 0.2573245452476455\n",
      "Epoch 58: Test loss 0.2561218306507015\n",
      "Epoch 59: Test loss 0.2549286528999394\n",
      "Epoch 60: Test loss 0.25374495960183086\n",
      "Epoch 61: Test loss 0.25257069751470784\n",
      "Epoch 62: Test loss 0.25140581259308215\n",
      "Epoch 63: Test loss 0.25025025003101714\n",
      "Epoch 64: Test loss 0.24910395430445806\n",
      "Epoch 65: Test loss 0.24796686921273992\n",
      "Epoch 66: Test loss 0.2468389379190024\n",
      "Epoch 67: Test loss 0.2457201029896972\n",
      "Epoch 68: Test loss 0.24461030643312398\n",
      "Epoch 69: Test loss 0.24350948973701025\n",
      "Epoch 70: Test loss 0.24241759390510992\n",
      "Epoch 71: Test loss 0.24133455949287058\n",
      "Epoch 72: Test loss 0.2402603266421498\n",
      "Epoch 73: Test loss 0.23919483511498754\n",
      "Epoch 74: Test loss 0.23813802432643277\n",
      "Epoch 75: Test loss 0.23708983337647166\n",
      "Epoch 76: Test loss 0.23605020108102132\n",
      "Epoch 77: Test loss 0.23501906600200484\n",
      "Epoch 78: Test loss 0.2339963664765743\n",
      "Epoch 79: Test loss 0.23298204064540096\n",
      "Epoch 80: Test loss 0.2319760264801363\n",
      "Epoch 81: Test loss 0.23097826180996767\n",
      "Epoch 82: Test loss 0.22998868434736686\n",
      "Epoch 83: Test loss 0.2290072317129835\n",
      "Epoch 84: Test loss 0.2280338414597193\n",
      "Epoch 85: Test loss 0.22706845109600937\n",
      "Epoch 86: Test loss 0.22611099810829252\n",
      "Epoch 87: Test loss 0.22516141998271916\n",
      "Epoch 88: Test loss 0.22421965422606494\n",
      "Epoch 89: Test loss 0.22328563838594478\n",
      "Epoch 90: Test loss 0.22235931007024423\n",
      "Epoch 91: Test loss 0.22144060696587137\n",
      "Epoch 92: Test loss 0.22052946685676797\n",
      "Epoch 93: Test loss 0.21962582764126848\n",
      "Epoch 94: Test loss 0.21872962734874818\n",
      "Epoch 95: Test loss 0.21784080415564563\n",
      "Epoch 96: Test loss 0.21695929640081724\n",
      "Epoch 97: Test loss 0.2160850426002877\n",
      "Epoch 98: Test loss 0.21521798146134902\n",
      "Epoch 99: Test loss 0.21435805189611373\n",
      "54.40791463851929 seconds elapsed.\n"
     ]
    }
   ],
   "source": [
    "x = np.random.normal(0.0, 1.0, (10,))\n",
    "y = np.random.normal(0.0, 1.0, (2,))\n",
    "\n",
    "dnn = DNN(hidden_depth=5, num_neuron=32, num_input=10, num_output=2, activation=sigmoid)\n",
    "\n",
    "t = time.time()\n",
    "for epoch in range(100):\n",
    "    loss = gradient_descent(dnn, x, y, mean_squared_error, 0.01)\n",
    "    print('Epoch {}: Test loss {}'.format(epoch, loss))\n",
    "print('{} seconds elapsed.'.format(time.time() - t))"
   ]
  }
 ],
 "metadata": {
  "kernelspec": {
   "display_name": "Python 3",
   "language": "python",
   "name": "python3"
  },
  "language_info": {
   "codemirror_mode": {
    "name": "ipython",
    "version": 3
   },
   "file_extension": ".py",
   "mimetype": "text/x-python",
   "name": "python",
   "nbconvert_exporter": "python",
   "pygments_lexer": "ipython3",
   "version": "3.7.7"
  }
 },
 "nbformat": 4,
 "nbformat_minor": 2
}
