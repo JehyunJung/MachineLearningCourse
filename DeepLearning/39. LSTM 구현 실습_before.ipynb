{
 "cells": [
  {
   "cell_type": "markdown",
   "metadata": {},
   "source": [
    "## 순환신경망 구현 및 학습"
   ]
  },
  {
   "cell_type": "code",
   "execution_count": 10,
   "metadata": {},
   "outputs": [
    {
     "name": "stderr",
     "output_type": "stream",
     "text": [
      "\n",
      "Bad key \"text.kerning_factor\" on line 4 in\n",
      "/home/toojey7/anaconda3/envs/mldl/lib/python3.7/site-packages/matplotlib/mpl-data/stylelib/_classic_test_patch.mplstyle.\n",
      "You probably need to get an updated matplotlibrc file from\n",
      "https://github.com/matplotlib/matplotlib/blob/v3.1.3/matplotlibrc.template\n",
      "or from the matplotlib source distribution\n"
     ]
    }
   ],
   "source": [
    "import tensorflow as tf\n",
    "import numpy as np\n",
    "import matplotlib.pyplot as plt"
   ]
  },
  {
   "cell_type": "markdown",
   "metadata": {},
   "source": [
    "## 하이퍼 파라미터"
   ]
  },
  {
   "cell_type": "code",
   "execution_count": 2,
   "metadata": {},
   "outputs": [],
   "source": [
    "EPOCHS = 10\n",
    "NUM_WORDS = 10000"
   ]
  },
  {
   "cell_type": "markdown",
   "metadata": {},
   "source": [
    "## 모델 정의"
   ]
  },
  {
   "cell_type": "code",
   "execution_count": 3,
   "metadata": {
    "scrolled": true
   },
   "outputs": [],
   "source": [
    "class MyModel(tf.keras.Model):\n",
    "    def __init__(self):\n",
    "        super().__init__()\n",
    "        self.emb=tf.keras.layers.Embedding(NUM_WORDS,16) #embedding?  길이가 32인 숫자 나열 형태를 그대로 학습하는 것은 좋지 않다 \n",
    "        self.lstm=tf.keras.layers.LSTM(32)\n",
    "        self.dense=tf.keras.layers.Dense(1,activation='sigmoid')\n",
    "        \n",
    "    def call(self,x,training=None,mask=None):\n",
    "        x=self.emb(x)\n",
    "        x=self.lstm(x)\n",
    "        return self.dense(x)"
   ]
  },
  {
   "cell_type": "markdown",
   "metadata": {},
   "source": [
    "## 데이터셋 준비\n"
   ]
  },
  {
   "cell_type": "code",
   "execution_count": 4,
   "metadata": {},
   "outputs": [
    {
     "name": "stdout",
     "output_type": "stream",
     "text": [
      "Downloading data from https://storage.googleapis.com/tensorflow/tf-keras-datasets/imdb.npz\n",
      "17465344/17464789 [==============================] - 0s 0us/step\n",
      "218 189\n"
     ]
    }
   ],
   "source": [
    "imdb=tf.keras.datasets.imdb #영화 평론에 대한 데이터\n",
    "(x_train,y_train),(x_test,y_test)=imdb.load_data(num_words=NUM_WORDS) #x_train은 문장으로 이루어져 있고, y_train은 긍정/부정 즉 binary형태의 data, num_words을 통해 문장에 사용되는 단어의 개수 제한\n",
    "print(len(x_train[0]),len(x_train[1]))\n",
    "# x_train은 길이가 다양한 문장이다. -> 그래서를 이를 길이가 32인 문장들로 만들어 주었다.\n",
    "x_train=tf.keras.preprocessing.sequence.pad_sequences(x_train,value=0,padding='pre',maxlen=32) #길이가 32인 문장이 되도록 전처리 작업 진행, 만약 길이가 32보다 작은 경우에 대해서는 앞에 0으로 padding\n",
    "x_test=tf.keras.preprocessing.sequence.pad_sequences(x_test,value=0,padding='pre',maxlen=32)\n",
    "\n",
    "train_ds=tf.data.Dataset.from_tensor_slices((x_train,y_train)).shuffle(1000).batch(32)\n",
    "test_ds=tf.data.Dataset.from_tensor_slices((x_test,y_test)).batch(32)"
   ]
  },
  {
   "cell_type": "code",
   "execution_count": 5,
   "metadata": {},
   "outputs": [
    {
     "name": "stdout",
     "output_type": "stream",
     "text": [
      "[  30 5535   18   51   36   28  224   92   25  104    4  226   65   16\n",
      "   38 1334   88   12   16  283    5   16 4472  113  103   32   15   16\n",
      " 5345   19  178   32]\n"
     ]
    }
   ],
   "source": [
    "print(x_train[0])"
   ]
  },
  {
   "cell_type": "markdown",
   "metadata": {},
   "source": [
    "## 모델 생성"
   ]
  },
  {
   "cell_type": "code",
   "execution_count": 6,
   "metadata": {},
   "outputs": [],
   "source": [
    "model = MyModel()\n",
    "model.compile(optimizer='adam',\n",
    "              loss='binary_crossentropy',\n",
    "              metrics=['accuracy'])"
   ]
  },
  {
   "cell_type": "markdown",
   "metadata": {},
   "source": [
    "## 학습 루프 동작"
   ]
  },
  {
   "cell_type": "code",
   "execution_count": 8,
   "metadata": {
    "scrolled": false
   },
   "outputs": [
    {
     "name": "stdout",
     "output_type": "stream",
     "text": [
      "Train for 782 steps, validate for 782 steps\n",
      "Epoch 1/10\n",
      "782/782 [==============================] - 6s 8ms/step - loss: 0.0527 - accuracy: 0.9827 - val_loss: 1.2802 - val_accuracy: 0.7556\n",
      "Epoch 2/10\n",
      "782/782 [==============================] - 6s 8ms/step - loss: 0.0406 - accuracy: 0.9867 - val_loss: 1.4196 - val_accuracy: 0.7471\n",
      "Epoch 3/10\n",
      "782/782 [==============================] - 6s 8ms/step - loss: 0.0408 - accuracy: 0.9866 - val_loss: 1.3267 - val_accuracy: 0.7431\n",
      "Epoch 4/10\n",
      "782/782 [==============================] - 6s 8ms/step - loss: 0.0295 - accuracy: 0.9904 - val_loss: 1.4777 - val_accuracy: 0.7467\n",
      "Epoch 5/10\n",
      "782/782 [==============================] - 7s 9ms/step - loss: 0.0244 - accuracy: 0.9922 - val_loss: 1.5929 - val_accuracy: 0.7494\n",
      "Epoch 6/10\n",
      "782/782 [==============================] - 7s 9ms/step - loss: 0.0239 - accuracy: 0.9935 - val_loss: 1.7106 - val_accuracy: 0.7452\n",
      "Epoch 7/10\n",
      "782/782 [==============================] - 7s 8ms/step - loss: 0.0202 - accuracy: 0.9941 - val_loss: 1.7222 - val_accuracy: 0.7465\n",
      "Epoch 8/10\n",
      "782/782 [==============================] - 6s 8ms/step - loss: 0.0174 - accuracy: 0.9947 - val_loss: 1.7417 - val_accuracy: 0.7448\n",
      "Epoch 9/10\n",
      "782/782 [==============================] - 6s 8ms/step - loss: 0.0204 - accuracy: 0.9939 - val_loss: 1.6362 - val_accuracy: 0.7434\n",
      "Epoch 10/10\n",
      "782/782 [==============================] - 7s 8ms/step - loss: 0.0133 - accuracy: 0.9960 - val_loss: 1.8945 - val_accuracy: 0.7459\n"
     ]
    }
   ],
   "source": [
    "history=model.fit(train_ds, validation_data=test_ds, epochs=EPOCHS)"
   ]
  },
  {
   "cell_type": "code",
   "execution_count": 12,
   "metadata": {},
   "outputs": [
    {
     "data": {
      "text/plain": [
       "Text(0.5, 1.0, 'Training and Validation Loss')"
      ]
     },
     "execution_count": 12,
     "metadata": {},
     "output_type": "execute_result"
    },
    {
     "data": {
      "image/png": "[encoded data removed]",
      "text/plain": [
       "<Figure size 432x288 with 1 Axes>"
      ]
     },
     "metadata": {
      "needs_background": "light"
     },
     "output_type": "display_data"
    }
   ],
   "source": [
    "loss=history.history['loss']\n",
    "val_loss=history.history['val_loss']\n",
    "\n",
    "plt.figure()\n",
    "plt.plot(loss,'ro-') # r->read o->circle points - ->point connected with lines\n",
    "plt.plot(val_loss,'bo-')\n",
    "plt.ylabel('Cross Entropy')\n",
    "plt.xlabel('Epoch')\n",
    "plt.legend(['train_loss','val_loss'])\n",
    "plt.title('Training and Validation Loss')"
   ]
  },
  {
   "cell_type": "code",
   "execution_count": 9,
   "metadata": {
    "scrolled": true
   },
   "outputs": [
    {
     "name": "stdout",
     "output_type": "stream",
     "text": [
      "0.7556\n"
     ]
    }
   ],
   "source": [
    "print(max(history.history['val_accuracy']))"
   ]
  },
  {
   "cell_type": "markdown",
   "metadata": {},
   "source": [
    "## GRU(Gated Recurrent Unit)"
   ]
  },
  {
   "cell_type": "code",
   "execution_count": 13,
   "metadata": {},
   "outputs": [],
   "source": [
    "class MyModel(tf.keras.Model):\n",
    "    def __init__(self):\n",
    "        super().__init__()\n",
    "        self.emb=tf.keras.layers.Embedding(NUM_WORDS,16) #embedding?  길이가 32인 숫자 나열 형태를 그대로 학습하는 것은 좋지 않다 각각의 NUM_WORDS에 대해서 16 길이의 벡터로 만들어진다.? 독립성 유지??\n",
    "        self.gru=tf.keras.layers.GRU(32)\n",
    "        self.dense=tf.keras.layers.Dense(1,activation='sigmoid')\n",
    "        \n",
    "    def call(self,x,training=None,mask=None):\n",
    "        x=self.emb(x)\n",
    "        x=self.gru(x)\n",
    "        return self.dense(x)\n",
    "model = MyModel()\n",
    "model.compile(optimizer='adam',\n",
    "              loss='binary_crossentropy',\n",
    "              metrics=['accuracy'])"
   ]
  },
  {
   "cell_type": "code",
   "execution_count": 14,
   "metadata": {},
   "outputs": [
    {
     "name": "stdout",
     "output_type": "stream",
     "text": [
      "Train for 782 steps, validate for 782 steps\n",
      "Epoch 1/10\n",
      "782/782 [==============================] - 8s 10ms/step - loss: 0.5071 - accuracy: 0.7354 - val_loss: 0.4506 - val_accuracy: 0.7853\n",
      "Epoch 2/10\n",
      "782/782 [==============================] - 6s 8ms/step - loss: 0.3758 - accuracy: 0.8314 - val_loss: 0.4507 - val_accuracy: 0.7868\n",
      "Epoch 3/10\n",
      "782/782 [==============================] - 6s 8ms/step - loss: 0.3276 - accuracy: 0.8592 - val_loss: 0.4807 - val_accuracy: 0.7787\n",
      "Epoch 4/10\n",
      "782/782 [==============================] - 6s 8ms/step - loss: 0.2861 - accuracy: 0.8843 - val_loss: 0.5295 - val_accuracy: 0.7697\n",
      "Epoch 5/10\n",
      "782/782 [==============================] - 6s 8ms/step - loss: 0.2407 - accuracy: 0.9044 - val_loss: 0.5595 - val_accuracy: 0.7695\n",
      "Epoch 6/10\n",
      "782/782 [==============================] - 6s 8ms/step - loss: 0.2005 - accuracy: 0.9258 - val_loss: 0.6500 - val_accuracy: 0.7648\n",
      "Epoch 7/10\n",
      "782/782 [==============================] - 6s 8ms/step - loss: 0.1616 - accuracy: 0.9422 - val_loss: 0.7694 - val_accuracy: 0.7584\n",
      "Epoch 8/10\n",
      "782/782 [==============================] - 6s 8ms/step - loss: 0.1302 - accuracy: 0.9558 - val_loss: 0.8755 - val_accuracy: 0.7561\n",
      "Epoch 9/10\n",
      "782/782 [==============================] - 6s 8ms/step - loss: 0.0998 - accuracy: 0.9672 - val_loss: 1.0446 - val_accuracy: 0.7487\n",
      "Epoch 10/10\n",
      "782/782 [==============================] - 6s 8ms/step - loss: 0.0788 - accuracy: 0.9751 - val_loss: 1.1196 - val_accuracy: 0.7480\n"
     ]
    }
   ],
   "source": [
    "history=model.fit(train_ds, validation_data=test_ds, epochs=EPOCHS)"
   ]
  },
  {
   "cell_type": "code",
   "execution_count": 15,
   "metadata": {},
   "outputs": [
    {
     "data": {
      "text/plain": [
       "Text(0.5, 1.0, 'Training and Validation Loss')"
      ]
     },
     "execution_count": 15,
     "metadata": {},
     "output_type": "execute_result"
    },
    {
     "data": {
      "image/png": "[encoded data removed]",
      "text/plain": [
       "<Figure size 432x288 with 1 Axes>"
      ]
     },
     "metadata": {
      "needs_background": "light"
     },
     "output_type": "display_data"
    }
   ],
   "source": [
    "loss=history.history['loss']\n",
    "val_loss=history.history['val_loss']\n",
    "\n",
    "plt.figure()\n",
    "plt.plot(loss,'ro-') # r->read o->circle points - ->point connected with lines\n",
    "plt.plot(val_loss,'bo-')\n",
    "plt.ylabel('Cross Entropy')\n",
    "plt.xlabel('Epoch')\n",
    "plt.legend(['train_loss','val_loss'])\n",
    "plt.title('Training and Validation Loss')"
   ]
  },
  {
   "cell_type": "code",
   "execution_count": 17,
   "metadata": {},
   "outputs": [
    {
     "name": "stdout",
     "output_type": "stream",
     "text": [
      "0.78684\n"
     ]
    }
   ],
   "source": [
    "print(max(history.history['val_accuracy']))"
   ]
  },
  {
   "cell_type": "markdown",
   "metadata": {},
   "source": [
    "## Vanilla RNN"
   ]
  },
  {
   "cell_type": "code",
   "execution_count": 18,
   "metadata": {},
   "outputs": [],
   "source": [
    "class MyModel(tf.keras.Model):\n",
    "    def __init__(self):\n",
    "        super().__init__()\n",
    "        self.emb=tf.keras.layers.Embedding(NUM_WORDS,16) #embedding?  길이가 32인 숫자 나열 형태를 그대로 학습하는 것은 좋지 않다 \n",
    "        self.rnn=tf.keras.layers.SimpleRNN(32)\n",
    "        self.dense=tf.keras.layers.Dense(1,activation='sigmoid')\n",
    "        \n",
    "    def call(self,x,training=None,mask=None):\n",
    "        x=self.emb(x)\n",
    "        x=self.rnn(x)\n",
    "        return self.dense(x)\n",
    "model = MyModel()\n",
    "model.compile(optimizer='adam',\n",
    "              loss='binary_crossentropy',\n",
    "              metrics=['accuracy'])"
   ]
  },
  {
   "cell_type": "code",
   "execution_count": 19,
   "metadata": {},
   "outputs": [
    {
     "name": "stdout",
     "output_type": "stream",
     "text": [
      "Train for 782 steps, validate for 782 steps\n",
      "Epoch 1/10\n",
      "782/782 [==============================] - 17s 22ms/step - loss: 0.5439 - accuracy: 0.7082 - val_loss: 0.4536 - val_accuracy: 0.7867\n",
      "Epoch 2/10\n",
      "782/782 [==============================] - 16s 21ms/step - loss: 0.3623 - accuracy: 0.8432 - val_loss: 0.4880 - val_accuracy: 0.7718\n",
      "Epoch 3/10\n",
      "782/782 [==============================] - 17s 21ms/step - loss: 0.2306 - accuracy: 0.9085 - val_loss: 0.5974 - val_accuracy: 0.7608\n",
      "Epoch 4/10\n",
      "782/782 [==============================] - 16s 21ms/step - loss: 0.1121 - accuracy: 0.9620 - val_loss: 0.7695 - val_accuracy: 0.7541\n",
      "Epoch 5/10\n",
      "782/782 [==============================] - 16s 20ms/step - loss: 0.0532 - accuracy: 0.9836 - val_loss: 0.9605 - val_accuracy: 0.7412\n",
      "Epoch 6/10\n",
      "782/782 [==============================] - 16s 21ms/step - loss: 0.0292 - accuracy: 0.9915 - val_loss: 1.1302 - val_accuracy: 0.7406\n",
      "Epoch 7/10\n",
      "782/782 [==============================] - 16s 21ms/step - loss: 0.0175 - accuracy: 0.9950 - val_loss: 1.2726 - val_accuracy: 0.7318\n",
      "Epoch 8/10\n",
      "782/782 [==============================] - 16s 21ms/step - loss: 0.0166 - accuracy: 0.9942 - val_loss: 1.3232 - val_accuracy: 0.7388\n",
      "Epoch 9/10\n",
      "782/782 [==============================] - 16s 20ms/step - loss: 0.0205 - accuracy: 0.9930 - val_loss: 1.3475 - val_accuracy: 0.7354\n",
      "Epoch 10/10\n",
      "782/782 [==============================] - 16s 21ms/step - loss: 0.0127 - accuracy: 0.9961 - val_loss: 1.4354 - val_accuracy: 0.7451\n"
     ]
    }
   ],
   "source": [
    "history=model.fit(train_ds, validation_data=test_ds, epochs=EPOCHS)"
   ]
  },
  {
   "cell_type": "code",
   "execution_count": 20,
   "metadata": {},
   "outputs": [
    {
     "data": {
      "text/plain": [
       "Text(0.5, 1.0, 'Training and Validation Loss')"
      ]
     },
     "execution_count": 20,
     "metadata": {},
     "output_type": "execute_result"
    },
    {
     "data": {
      "image/png": "[encoded data removed]",
      "text/plain": [
       "<Figure size 432x288 with 1 Axes>"
      ]
     },
     "metadata": {
      "needs_background": "light"
     },
     "output_type": "display_data"
    }
   ],
   "source": [
    "loss=history.history['loss']\n",
    "val_loss=history.history['val_loss']\n",
    "\n",
    "plt.figure()\n",
    "plt.plot(loss,'ro-') # r->read o->circle points - ->point connected with lines\n",
    "plt.plot(val_loss,'bo-')\n",
    "plt.ylabel('Cross Entropy')\n",
    "plt.xlabel('Epoch')\n",
    "plt.legend(['train_loss','val_loss'])\n",
    "plt.title('Training and Validation Loss')"
   ]
  },
  {
   "cell_type": "code",
   "execution_count": 21,
   "metadata": {},
   "outputs": [
    {
     "name": "stdout",
     "output_type": "stream",
     "text": [
      "0.78672\n"
     ]
    }
   ],
   "source": [
    "print(max(history.history['val_accuracy']))"
   ]
  }
 ],
 "metadata": {
  "kernelspec": {
   "display_name": "Python 3",
   "language": "python",
   "name": "python3"
  },
  "language_info": {
   "codemirror_mode": {
    "name": "ipython",
    "version": 3
   },
   "file_extension": ".py",
   "mimetype": "text/x-python",
   "name": "python",
   "nbconvert_exporter": "python",
   "pygments_lexer": "ipython3",
   "version": "3.7.5"
  }
 },
 "nbformat": 4,
 "nbformat_minor": 2
}
